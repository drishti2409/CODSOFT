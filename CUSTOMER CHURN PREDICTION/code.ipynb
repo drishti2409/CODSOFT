{
 "cells": [
  {
   "cell_type": "code",
   "execution_count": 1,
   "id": "9d70ab03",
   "metadata": {},
   "outputs": [],
   "source": [
    "import numpy as np\n",
    "import pandas as pd\n",
    "\n",
    "# For visualization\n",
    "import matplotlib.pyplot as plt\n",
    "%matplotlib inline\n",
    "import seaborn as sns\n",
    "pd.options.display.max_rows = None\n",
    "pd.options.display.max_columns = None"
   ]
  },
  {
   "cell_type": "code",
   "execution_count": 2,
   "id": "a8deae72",
   "metadata": {},
   "outputs": [
    {
     "data": {
      "text/plain": [
       "(10000, 14)"
      ]
     },
     "execution_count": 2,
     "metadata": {},
     "output_type": "execute_result"
    }
   ],
   "source": [
    "df = pd.read_csv('Churn_Modelling.csv')\n",
    "df.shape"
   ]
  },
  {
   "cell_type": "code",
   "execution_count": 3,
   "id": "49efe07e",
   "metadata": {},
   "outputs": [
    {
     "data": {
      "text/plain": [
       "RowNumber          0\n",
       "CustomerId         0\n",
       "Surname            0\n",
       "CreditScore        0\n",
       "Geography          0\n",
       "Gender             0\n",
       "Age                0\n",
       "Tenure             0\n",
       "Balance            0\n",
       "NumOfProducts      0\n",
       "HasCrCard          0\n",
       "IsActiveMember     0\n",
       "EstimatedSalary    0\n",
       "Exited             0\n",
       "dtype: int64"
      ]
     },
     "execution_count": 3,
     "metadata": {},
     "output_type": "execute_result"
    }
   ],
   "source": [
    "# Check columns list and missing values\n",
    "df.isnull().sum()"
   ]
  },
  {
   "cell_type": "code",
   "execution_count": 4,
   "id": "c14f08b1",
   "metadata": {},
   "outputs": [
    {
     "data": {
      "text/plain": [
       "RowNumber          10000\n",
       "CustomerId         10000\n",
       "Surname             2932\n",
       "CreditScore          460\n",
       "Geography              3\n",
       "Gender                 2\n",
       "Age                   70\n",
       "Tenure                11\n",
       "Balance             6382\n",
       "NumOfProducts          4\n",
       "HasCrCard              2\n",
       "IsActiveMember         2\n",
       "EstimatedSalary     9999\n",
       "Exited                 2\n",
       "dtype: int64"
      ]
     },
     "execution_count": 4,
     "metadata": {},
     "output_type": "execute_result"
    }
   ],
   "source": [
    "df.nunique()"
   ]
  },
  {
   "cell_type": "code",
   "execution_count": 5,
   "id": "02ce19f2",
   "metadata": {},
   "outputs": [
    {
     "data": {
      "text/html": [
       "<div>\n",
       "<style scoped>\n",
       "    .dataframe tbody tr th:only-of-type {\n",
       "        vertical-align: middle;\n",
       "    }\n",
       "\n",
       "    .dataframe tbody tr th {\n",
       "        vertical-align: top;\n",
       "    }\n",
       "\n",
       "    .dataframe thead th {\n",
       "        text-align: right;\n",
       "    }\n",
       "</style>\n",
       "<table border=\"1\" class=\"dataframe\">\n",
       "  <thead>\n",
       "    <tr style=\"text-align: right;\">\n",
       "      <th></th>\n",
       "      <th>CreditScore</th>\n",
       "      <th>Geography</th>\n",
       "      <th>Gender</th>\n",
       "      <th>Age</th>\n",
       "      <th>Tenure</th>\n",
       "      <th>Balance</th>\n",
       "      <th>NumOfProducts</th>\n",
       "      <th>HasCrCard</th>\n",
       "      <th>IsActiveMember</th>\n",
       "      <th>EstimatedSalary</th>\n",
       "      <th>Exited</th>\n",
       "    </tr>\n",
       "  </thead>\n",
       "  <tbody>\n",
       "    <tr>\n",
       "      <th>0</th>\n",
       "      <td>619</td>\n",
       "      <td>France</td>\n",
       "      <td>Female</td>\n",
       "      <td>42</td>\n",
       "      <td>2</td>\n",
       "      <td>0.00</td>\n",
       "      <td>1</td>\n",
       "      <td>1</td>\n",
       "      <td>1</td>\n",
       "      <td>101348.88</td>\n",
       "      <td>1</td>\n",
       "    </tr>\n",
       "    <tr>\n",
       "      <th>1</th>\n",
       "      <td>608</td>\n",
       "      <td>Spain</td>\n",
       "      <td>Female</td>\n",
       "      <td>41</td>\n",
       "      <td>1</td>\n",
       "      <td>83807.86</td>\n",
       "      <td>1</td>\n",
       "      <td>0</td>\n",
       "      <td>1</td>\n",
       "      <td>112542.58</td>\n",
       "      <td>0</td>\n",
       "    </tr>\n",
       "    <tr>\n",
       "      <th>2</th>\n",
       "      <td>502</td>\n",
       "      <td>France</td>\n",
       "      <td>Female</td>\n",
       "      <td>42</td>\n",
       "      <td>8</td>\n",
       "      <td>159660.80</td>\n",
       "      <td>3</td>\n",
       "      <td>1</td>\n",
       "      <td>0</td>\n",
       "      <td>113931.57</td>\n",
       "      <td>1</td>\n",
       "    </tr>\n",
       "    <tr>\n",
       "      <th>3</th>\n",
       "      <td>699</td>\n",
       "      <td>France</td>\n",
       "      <td>Female</td>\n",
       "      <td>39</td>\n",
       "      <td>1</td>\n",
       "      <td>0.00</td>\n",
       "      <td>2</td>\n",
       "      <td>0</td>\n",
       "      <td>0</td>\n",
       "      <td>93826.63</td>\n",
       "      <td>0</td>\n",
       "    </tr>\n",
       "    <tr>\n",
       "      <th>4</th>\n",
       "      <td>850</td>\n",
       "      <td>Spain</td>\n",
       "      <td>Female</td>\n",
       "      <td>43</td>\n",
       "      <td>2</td>\n",
       "      <td>125510.82</td>\n",
       "      <td>1</td>\n",
       "      <td>1</td>\n",
       "      <td>1</td>\n",
       "      <td>79084.10</td>\n",
       "      <td>0</td>\n",
       "    </tr>\n",
       "  </tbody>\n",
       "</table>\n",
       "</div>"
      ],
      "text/plain": [
       "   CreditScore Geography  Gender  Age  Tenure    Balance  NumOfProducts  \\\n",
       "0          619    France  Female   42       2       0.00              1   \n",
       "1          608     Spain  Female   41       1   83807.86              1   \n",
       "2          502    France  Female   42       8  159660.80              3   \n",
       "3          699    France  Female   39       1       0.00              2   \n",
       "4          850     Spain  Female   43       2  125510.82              1   \n",
       "\n",
       "   HasCrCard  IsActiveMember  EstimatedSalary  Exited  \n",
       "0          1               1        101348.88       1  \n",
       "1          0               1        112542.58       0  \n",
       "2          1               0        113931.57       1  \n",
       "3          0               0         93826.63       0  \n",
       "4          1               1         79084.10       0  "
      ]
     },
     "execution_count": 5,
     "metadata": {},
     "output_type": "execute_result"
    }
   ],
   "source": [
    "df = df.drop([\"RowNumber\", \"CustomerId\", \"Surname\"], axis = 1)\n",
    "# Review the top rows of what is left of the data frame\n",
    "df.head()"
   ]
  },
  {
   "cell_type": "code",
   "execution_count": 6,
   "id": "ef3110fc",
   "metadata": {},
   "outputs": [
    {
     "data": {
      "text/plain": [
       "CreditScore          int64\n",
       "Geography           object\n",
       "Gender              object\n",
       "Age                  int64\n",
       "Tenure               int64\n",
       "Balance            float64\n",
       "NumOfProducts        int64\n",
       "HasCrCard            int64\n",
       "IsActiveMember       int64\n",
       "EstimatedSalary    float64\n",
       "Exited               int64\n",
       "dtype: object"
      ]
     },
     "execution_count": 6,
     "metadata": {},
     "output_type": "execute_result"
    }
   ],
   "source": [
    "# Check variable data types\n",
    "df.dtypes"
   ]
  },
  {
   "cell_type": "code",
   "execution_count": 7,
   "id": "34e16eaf",
   "metadata": {},
   "outputs": [
    {
     "data": {
      "image/png": "[encoded data removed]",
      "text/plain": [
       "<Figure size 720x576 with 1 Axes>"
      ]
     },
     "metadata": {},
     "output_type": "display_data"
    }
   ],
   "source": [
    "labels = 'Exited', 'Active'\n",
    "sizes = [df.Exited[df['Exited']==1].count(), df.Exited[df['Exited']==0].count()]\n",
    "explode = (0, 0.1)\n",
    "fig1, ax1 = plt.subplots(figsize=(10, 8))\n",
    "ax1.pie(sizes, explode=explode, labels=labels, autopct='%1.1f%%',\n",
    "        shadow=True, startangle=90)\n",
    "ax1.axis('equal')\n",
    "plt.title(\"Proportion of customer churned and active\", size = 20)\n",
    "plt.show()"
   ]
  },
  {
   "cell_type": "code",
   "execution_count": 8,
   "id": "1a86d8b0",
   "metadata": {},
   "outputs": [
    {
     "data": {
      "text/plain": [
       "<AxesSubplot:xlabel='IsActiveMember', ylabel='count'>"
      ]
     },
     "execution_count": 8,
     "metadata": {},
     "output_type": "execute_result"
    },
    {
     "data": {
      "image/png": "[encoded data removed]",
      "text/plain": [
       "<Figure size 1440x864 with 4 Axes>"
      ]
     },
     "metadata": {
      "needs_background": "light"
     },
     "output_type": "display_data"
    }
   ],
   "source": [
    "fig, axarr = plt.subplots(2, 2, figsize=(20, 12))\n",
    "sns.countplot(x='Geography', hue = 'Exited',data = df, ax=axarr[0][0])\n",
    "sns.countplot(x='Gender', hue = 'Exited',data = df, ax=axarr[0][1])\n",
    "sns.countplot(x='HasCrCard', hue = 'Exited',data = df, ax=axarr[1][0])\n",
    "sns.countplot(x='IsActiveMember', hue = 'Exited',data = df, ax=axarr[1][1])"
   ]
  },
  {
   "cell_type": "code",
   "execution_count": 9,
   "id": "03c5c2eb",
   "metadata": {},
   "outputs": [
    {
     "data": {
      "text/plain": [
       "<AxesSubplot:xlabel='Exited', ylabel='EstimatedSalary'>"
      ]
     },
     "execution_count": 9,
     "metadata": {},
     "output_type": "execute_result"
    },
    {
     "data": {
      "image/png": "[encoded data removed]",
      "text/plain": [
       "<Figure size 720x360 with 6 Axes>"
      ]
     },
     "metadata": {
      "needs_background": "light"
     },
     "output_type": "display_data"
    }
   ],
   "source": [
    "fig, axarr = plt.subplots(3, 2, figsize=(10, 5))\n",
    "sns.boxplot(y='CreditScore',x = 'Exited', hue = 'Exited',data = df, ax=axarr[0][0])\n",
    "sns.boxplot(y='Age',x = 'Exited', hue = 'Exited',data = df , ax=axarr[0][1])\n",
    "sns.boxplot(y='Tenure',x = 'Exited', hue = 'Exited',data = df, ax=axarr[1][0])\n",
    "sns.boxplot(y='Balance',x = 'Exited', hue = 'Exited',data = df, ax=axarr[1][1])\n",
    "sns.boxplot(y='NumOfProducts',x = 'Exited', hue = 'Exited',data = df, ax=axarr[2][0])\n",
    "sns.boxplot(y='EstimatedSalary',x = 'Exited', hue = 'Exited',data = df, ax=axarr[2][1])\n"
   ]
  },
  {
   "cell_type": "code",
   "execution_count": 10,
   "id": "843937f6",
   "metadata": {},
   "outputs": [
    {
     "name": "stdout",
     "output_type": "stream",
     "text": [
      "8000\n",
      "2000\n"
     ]
    }
   ],
   "source": [
    "# Split Train, test data\n",
    "df_train = df.sample(frac=0.8,random_state=200)\n",
    "df_test = df.drop(df_train.index)\n",
    "print(len(df_train))\n",
    "print(len(df_test))"
   ]
  },
  {
   "cell_type": "code",
   "execution_count": 11,
   "id": "5259800a",
   "metadata": {},
   "outputs": [
    {
     "data": {
      "text/plain": [
       "(-1.0, 5.0)"
      ]
     },
     "execution_count": 11,
     "metadata": {},
     "output_type": "execute_result"
    },
    {
     "data": {
      "image/png": "[encoded data removed]",
      "text/plain": [
       "<Figure size 432x288 with 1 Axes>"
      ]
     },
     "metadata": {
      "needs_background": "light"
     },
     "output_type": "display_data"
    }
   ],
   "source": [
    "df_train['BalanceSalaryRatio'] = df_train.Balance/df_train.EstimatedSalary\n",
    "sns.boxplot(y='BalanceSalaryRatio',x = 'Exited', hue = 'Exited',data = df_train)\n",
    "plt.ylim(-1, 5)"
   ]
  },
  {
   "cell_type": "code",
   "execution_count": 12,
   "id": "d5d25b53",
   "metadata": {},
   "outputs": [
    {
     "data": {
      "image/png": "[encoded data removed]",
      "text/plain": [
       "<Figure size 432x288 with 1 Axes>"
      ]
     },
     "metadata": {
      "needs_background": "light"
     },
     "output_type": "display_data"
    }
   ],
   "source": [
    "# Given that tenure is a 'function' of age, we introduce a variable aiming to standardize tenure over age:\n",
    "df_train['TenureByAge'] = df_train.Tenure/(df_train.Age)\n",
    "sns.boxplot(y='TenureByAge',x = 'Exited', hue = 'Exited',data = df_train)\n",
    "plt.ylim(-1, 1)\n",
    "plt.show()"
   ]
  },
  {
   "cell_type": "code",
   "execution_count": 13,
   "id": "b0e9e2ae",
   "metadata": {},
   "outputs": [],
   "source": [
    "df_train['CreditScoreGivenAge'] = df_train.CreditScore/(df_train.Age)"
   ]
  },
  {
   "cell_type": "code",
   "execution_count": 14,
   "id": "5d816124",
   "metadata": {},
   "outputs": [
    {
     "data": {
      "text/html": [
       "<div>\n",
       "<style scoped>\n",
       "    .dataframe tbody tr th:only-of-type {\n",
       "        vertical-align: middle;\n",
       "    }\n",
       "\n",
       "    .dataframe tbody tr th {\n",
       "        vertical-align: top;\n",
       "    }\n",
       "\n",
       "    .dataframe thead th {\n",
       "        text-align: right;\n",
       "    }\n",
       "</style>\n",
       "<table border=\"1\" class=\"dataframe\">\n",
       "  <thead>\n",
       "    <tr style=\"text-align: right;\">\n",
       "      <th></th>\n",
       "      <th>CreditScore</th>\n",
       "      <th>Geography</th>\n",
       "      <th>Gender</th>\n",
       "      <th>Age</th>\n",
       "      <th>Tenure</th>\n",
       "      <th>Balance</th>\n",
       "      <th>NumOfProducts</th>\n",
       "      <th>HasCrCard</th>\n",
       "      <th>IsActiveMember</th>\n",
       "      <th>EstimatedSalary</th>\n",
       "      <th>Exited</th>\n",
       "      <th>BalanceSalaryRatio</th>\n",
       "      <th>TenureByAge</th>\n",
       "      <th>CreditScoreGivenAge</th>\n",
       "    </tr>\n",
       "  </thead>\n",
       "  <tbody>\n",
       "    <tr>\n",
       "      <th>8159</th>\n",
       "      <td>461</td>\n",
       "      <td>Spain</td>\n",
       "      <td>Female</td>\n",
       "      <td>25</td>\n",
       "      <td>6</td>\n",
       "      <td>0.00</td>\n",
       "      <td>2</td>\n",
       "      <td>1</td>\n",
       "      <td>1</td>\n",
       "      <td>15306.29</td>\n",
       "      <td>0</td>\n",
       "      <td>0.000000</td>\n",
       "      <td>0.240000</td>\n",
       "      <td>18.440000</td>\n",
       "    </tr>\n",
       "    <tr>\n",
       "      <th>6332</th>\n",
       "      <td>619</td>\n",
       "      <td>France</td>\n",
       "      <td>Female</td>\n",
       "      <td>35</td>\n",
       "      <td>4</td>\n",
       "      <td>90413.12</td>\n",
       "      <td>1</td>\n",
       "      <td>1</td>\n",
       "      <td>1</td>\n",
       "      <td>20555.21</td>\n",
       "      <td>0</td>\n",
       "      <td>4.398550</td>\n",
       "      <td>0.114286</td>\n",
       "      <td>17.685714</td>\n",
       "    </tr>\n",
       "    <tr>\n",
       "      <th>8895</th>\n",
       "      <td>699</td>\n",
       "      <td>France</td>\n",
       "      <td>Female</td>\n",
       "      <td>40</td>\n",
       "      <td>8</td>\n",
       "      <td>122038.34</td>\n",
       "      <td>1</td>\n",
       "      <td>1</td>\n",
       "      <td>0</td>\n",
       "      <td>102085.35</td>\n",
       "      <td>0</td>\n",
       "      <td>1.195454</td>\n",
       "      <td>0.200000</td>\n",
       "      <td>17.475000</td>\n",
       "    </tr>\n",
       "    <tr>\n",
       "      <th>5351</th>\n",
       "      <td>558</td>\n",
       "      <td>Germany</td>\n",
       "      <td>Male</td>\n",
       "      <td>41</td>\n",
       "      <td>2</td>\n",
       "      <td>124227.14</td>\n",
       "      <td>1</td>\n",
       "      <td>1</td>\n",
       "      <td>1</td>\n",
       "      <td>111184.67</td>\n",
       "      <td>0</td>\n",
       "      <td>1.117305</td>\n",
       "      <td>0.048780</td>\n",
       "      <td>13.609756</td>\n",
       "    </tr>\n",
       "    <tr>\n",
       "      <th>4314</th>\n",
       "      <td>638</td>\n",
       "      <td>France</td>\n",
       "      <td>Male</td>\n",
       "      <td>34</td>\n",
       "      <td>5</td>\n",
       "      <td>133501.36</td>\n",
       "      <td>1</td>\n",
       "      <td>0</td>\n",
       "      <td>1</td>\n",
       "      <td>155643.04</td>\n",
       "      <td>0</td>\n",
       "      <td>0.857741</td>\n",
       "      <td>0.147059</td>\n",
       "      <td>18.764706</td>\n",
       "    </tr>\n",
       "  </tbody>\n",
       "</table>\n",
       "</div>"
      ],
      "text/plain": [
       "      CreditScore Geography  Gender  Age  Tenure    Balance  NumOfProducts  \\\n",
       "8159          461     Spain  Female   25       6       0.00              2   \n",
       "6332          619    France  Female   35       4   90413.12              1   \n",
       "8895          699    France  Female   40       8  122038.34              1   \n",
       "5351          558   Germany    Male   41       2  124227.14              1   \n",
       "4314          638    France    Male   34       5  133501.36              1   \n",
       "\n",
       "      HasCrCard  IsActiveMember  EstimatedSalary  Exited  BalanceSalaryRatio  \\\n",
       "8159          1               1         15306.29       0            0.000000   \n",
       "6332          1               1         20555.21       0            4.398550   \n",
       "8895          1               0        102085.35       0            1.195454   \n",
       "5351          1               1        111184.67       0            1.117305   \n",
       "4314          0               1        155643.04       0            0.857741   \n",
       "\n",
       "      TenureByAge  CreditScoreGivenAge  \n",
       "8159     0.240000            18.440000  \n",
       "6332     0.114286            17.685714  \n",
       "8895     0.200000            17.475000  \n",
       "5351     0.048780            13.609756  \n",
       "4314     0.147059            18.764706  "
      ]
     },
     "execution_count": 14,
     "metadata": {},
     "output_type": "execute_result"
    }
   ],
   "source": [
    "# Resulting Data Frame\n",
    "df_train.head()"
   ]
  },
  {
   "cell_type": "code",
   "execution_count": 15,
   "id": "1044345a",
   "metadata": {},
   "outputs": [
    {
     "data": {
      "text/html": [
       "<div>\n",
       "<style scoped>\n",
       "    .dataframe tbody tr th:only-of-type {\n",
       "        vertical-align: middle;\n",
       "    }\n",
       "\n",
       "    .dataframe tbody tr th {\n",
       "        vertical-align: top;\n",
       "    }\n",
       "\n",
       "    .dataframe thead th {\n",
       "        text-align: right;\n",
       "    }\n",
       "</style>\n",
       "<table border=\"1\" class=\"dataframe\">\n",
       "  <thead>\n",
       "    <tr style=\"text-align: right;\">\n",
       "      <th></th>\n",
       "      <th>Exited</th>\n",
       "      <th>CreditScore</th>\n",
       "      <th>Age</th>\n",
       "      <th>Tenure</th>\n",
       "      <th>Balance</th>\n",
       "      <th>NumOfProducts</th>\n",
       "      <th>EstimatedSalary</th>\n",
       "      <th>BalanceSalaryRatio</th>\n",
       "      <th>TenureByAge</th>\n",
       "      <th>CreditScoreGivenAge</th>\n",
       "      <th>HasCrCard</th>\n",
       "      <th>IsActiveMember</th>\n",
       "      <th>Geography</th>\n",
       "      <th>Gender</th>\n",
       "    </tr>\n",
       "  </thead>\n",
       "  <tbody>\n",
       "    <tr>\n",
       "      <th>8159</th>\n",
       "      <td>0</td>\n",
       "      <td>461</td>\n",
       "      <td>25</td>\n",
       "      <td>6</td>\n",
       "      <td>0.00</td>\n",
       "      <td>2</td>\n",
       "      <td>15306.29</td>\n",
       "      <td>0.000000</td>\n",
       "      <td>0.240000</td>\n",
       "      <td>18.440000</td>\n",
       "      <td>1</td>\n",
       "      <td>1</td>\n",
       "      <td>Spain</td>\n",
       "      <td>Female</td>\n",
       "    </tr>\n",
       "    <tr>\n",
       "      <th>6332</th>\n",
       "      <td>0</td>\n",
       "      <td>619</td>\n",
       "      <td>35</td>\n",
       "      <td>4</td>\n",
       "      <td>90413.12</td>\n",
       "      <td>1</td>\n",
       "      <td>20555.21</td>\n",
       "      <td>4.398550</td>\n",
       "      <td>0.114286</td>\n",
       "      <td>17.685714</td>\n",
       "      <td>1</td>\n",
       "      <td>1</td>\n",
       "      <td>France</td>\n",
       "      <td>Female</td>\n",
       "    </tr>\n",
       "    <tr>\n",
       "      <th>8895</th>\n",
       "      <td>0</td>\n",
       "      <td>699</td>\n",
       "      <td>40</td>\n",
       "      <td>8</td>\n",
       "      <td>122038.34</td>\n",
       "      <td>1</td>\n",
       "      <td>102085.35</td>\n",
       "      <td>1.195454</td>\n",
       "      <td>0.200000</td>\n",
       "      <td>17.475000</td>\n",
       "      <td>1</td>\n",
       "      <td>0</td>\n",
       "      <td>France</td>\n",
       "      <td>Female</td>\n",
       "    </tr>\n",
       "    <tr>\n",
       "      <th>5351</th>\n",
       "      <td>0</td>\n",
       "      <td>558</td>\n",
       "      <td>41</td>\n",
       "      <td>2</td>\n",
       "      <td>124227.14</td>\n",
       "      <td>1</td>\n",
       "      <td>111184.67</td>\n",
       "      <td>1.117305</td>\n",
       "      <td>0.048780</td>\n",
       "      <td>13.609756</td>\n",
       "      <td>1</td>\n",
       "      <td>1</td>\n",
       "      <td>Germany</td>\n",
       "      <td>Male</td>\n",
       "    </tr>\n",
       "    <tr>\n",
       "      <th>4314</th>\n",
       "      <td>0</td>\n",
       "      <td>638</td>\n",
       "      <td>34</td>\n",
       "      <td>5</td>\n",
       "      <td>133501.36</td>\n",
       "      <td>1</td>\n",
       "      <td>155643.04</td>\n",
       "      <td>0.857741</td>\n",
       "      <td>0.147059</td>\n",
       "      <td>18.764706</td>\n",
       "      <td>0</td>\n",
       "      <td>1</td>\n",
       "      <td>France</td>\n",
       "      <td>Male</td>\n",
       "    </tr>\n",
       "  </tbody>\n",
       "</table>\n",
       "</div>"
      ],
      "text/plain": [
       "      Exited  CreditScore  Age  Tenure    Balance  NumOfProducts  \\\n",
       "8159       0          461   25       6       0.00              2   \n",
       "6332       0          619   35       4   90413.12              1   \n",
       "8895       0          699   40       8  122038.34              1   \n",
       "5351       0          558   41       2  124227.14              1   \n",
       "4314       0          638   34       5  133501.36              1   \n",
       "\n",
       "      EstimatedSalary  BalanceSalaryRatio  TenureByAge  CreditScoreGivenAge  \\\n",
       "8159         15306.29            0.000000     0.240000            18.440000   \n",
       "6332         20555.21            4.398550     0.114286            17.685714   \n",
       "8895        102085.35            1.195454     0.200000            17.475000   \n",
       "5351        111184.67            1.117305     0.048780            13.609756   \n",
       "4314        155643.04            0.857741     0.147059            18.764706   \n",
       "\n",
       "      HasCrCard  IsActiveMember Geography  Gender  \n",
       "8159          1               1     Spain  Female  \n",
       "6332          1               1    France  Female  \n",
       "8895          1               0    France  Female  \n",
       "5351          1               1   Germany    Male  \n",
       "4314          0               1    France    Male  "
      ]
     },
     "execution_count": 15,
     "metadata": {},
     "output_type": "execute_result"
    }
   ],
   "source": [
    "continuous_vars = ['CreditScore',  'Age', 'Tenure', 'Balance','NumOfProducts', 'EstimatedSalary', 'BalanceSalaryRatio',\n",
    "                   'TenureByAge','CreditScoreGivenAge']\n",
    "cat_vars = ['HasCrCard', 'IsActiveMember','Geography', 'Gender']\n",
    "df_train = df_train[['Exited'] + continuous_vars + cat_vars]\n",
    "df_train.head()"
   ]
  },
  {
   "cell_type": "code",
   "execution_count": 16,
   "id": "0544d55c",
   "metadata": {},
   "outputs": [
    {
     "data": {
      "text/html": [
       "<div>\n",
       "<style scoped>\n",
       "    .dataframe tbody tr th:only-of-type {\n",
       "        vertical-align: middle;\n",
       "    }\n",
       "\n",
       "    .dataframe tbody tr th {\n",
       "        vertical-align: top;\n",
       "    }\n",
       "\n",
       "    .dataframe thead th {\n",
       "        text-align: right;\n",
       "    }\n",
       "</style>\n",
       "<table border=\"1\" class=\"dataframe\">\n",
       "  <thead>\n",
       "    <tr style=\"text-align: right;\">\n",
       "      <th></th>\n",
       "      <th>Exited</th>\n",
       "      <th>CreditScore</th>\n",
       "      <th>Age</th>\n",
       "      <th>Tenure</th>\n",
       "      <th>Balance</th>\n",
       "      <th>NumOfProducts</th>\n",
       "      <th>EstimatedSalary</th>\n",
       "      <th>BalanceSalaryRatio</th>\n",
       "      <th>TenureByAge</th>\n",
       "      <th>CreditScoreGivenAge</th>\n",
       "      <th>HasCrCard</th>\n",
       "      <th>IsActiveMember</th>\n",
       "      <th>Geography</th>\n",
       "      <th>Gender</th>\n",
       "    </tr>\n",
       "  </thead>\n",
       "  <tbody>\n",
       "    <tr>\n",
       "      <th>8159</th>\n",
       "      <td>0</td>\n",
       "      <td>461</td>\n",
       "      <td>25</td>\n",
       "      <td>6</td>\n",
       "      <td>0.00</td>\n",
       "      <td>2</td>\n",
       "      <td>15306.29</td>\n",
       "      <td>0.000000</td>\n",
       "      <td>0.240000</td>\n",
       "      <td>18.440000</td>\n",
       "      <td>1</td>\n",
       "      <td>1</td>\n",
       "      <td>Spain</td>\n",
       "      <td>Female</td>\n",
       "    </tr>\n",
       "    <tr>\n",
       "      <th>6332</th>\n",
       "      <td>0</td>\n",
       "      <td>619</td>\n",
       "      <td>35</td>\n",
       "      <td>4</td>\n",
       "      <td>90413.12</td>\n",
       "      <td>1</td>\n",
       "      <td>20555.21</td>\n",
       "      <td>4.398550</td>\n",
       "      <td>0.114286</td>\n",
       "      <td>17.685714</td>\n",
       "      <td>1</td>\n",
       "      <td>1</td>\n",
       "      <td>France</td>\n",
       "      <td>Female</td>\n",
       "    </tr>\n",
       "    <tr>\n",
       "      <th>8895</th>\n",
       "      <td>0</td>\n",
       "      <td>699</td>\n",
       "      <td>40</td>\n",
       "      <td>8</td>\n",
       "      <td>122038.34</td>\n",
       "      <td>1</td>\n",
       "      <td>102085.35</td>\n",
       "      <td>1.195454</td>\n",
       "      <td>0.200000</td>\n",
       "      <td>17.475000</td>\n",
       "      <td>1</td>\n",
       "      <td>-1</td>\n",
       "      <td>France</td>\n",
       "      <td>Female</td>\n",
       "    </tr>\n",
       "    <tr>\n",
       "      <th>5351</th>\n",
       "      <td>0</td>\n",
       "      <td>558</td>\n",
       "      <td>41</td>\n",
       "      <td>2</td>\n",
       "      <td>124227.14</td>\n",
       "      <td>1</td>\n",
       "      <td>111184.67</td>\n",
       "      <td>1.117305</td>\n",
       "      <td>0.048780</td>\n",
       "      <td>13.609756</td>\n",
       "      <td>1</td>\n",
       "      <td>1</td>\n",
       "      <td>Germany</td>\n",
       "      <td>Male</td>\n",
       "    </tr>\n",
       "    <tr>\n",
       "      <th>4314</th>\n",
       "      <td>0</td>\n",
       "      <td>638</td>\n",
       "      <td>34</td>\n",
       "      <td>5</td>\n",
       "      <td>133501.36</td>\n",
       "      <td>1</td>\n",
       "      <td>155643.04</td>\n",
       "      <td>0.857741</td>\n",
       "      <td>0.147059</td>\n",
       "      <td>18.764706</td>\n",
       "      <td>-1</td>\n",
       "      <td>1</td>\n",
       "      <td>France</td>\n",
       "      <td>Male</td>\n",
       "    </tr>\n",
       "  </tbody>\n",
       "</table>\n",
       "</div>"
      ],
      "text/plain": [
       "      Exited  CreditScore  Age  Tenure    Balance  NumOfProducts  \\\n",
       "8159       0          461   25       6       0.00              2   \n",
       "6332       0          619   35       4   90413.12              1   \n",
       "8895       0          699   40       8  122038.34              1   \n",
       "5351       0          558   41       2  124227.14              1   \n",
       "4314       0          638   34       5  133501.36              1   \n",
       "\n",
       "      EstimatedSalary  BalanceSalaryRatio  TenureByAge  CreditScoreGivenAge  \\\n",
       "8159         15306.29            0.000000     0.240000            18.440000   \n",
       "6332         20555.21            4.398550     0.114286            17.685714   \n",
       "8895        102085.35            1.195454     0.200000            17.475000   \n",
       "5351        111184.67            1.117305     0.048780            13.609756   \n",
       "4314        155643.04            0.857741     0.147059            18.764706   \n",
       "\n",
       "      HasCrCard  IsActiveMember Geography  Gender  \n",
       "8159          1               1     Spain  Female  \n",
       "6332          1               1    France  Female  \n",
       "8895          1              -1    France  Female  \n",
       "5351          1               1   Germany    Male  \n",
       "4314         -1               1    France    Male  "
      ]
     },
     "execution_count": 16,
     "metadata": {},
     "output_type": "execute_result"
    }
   ],
   "source": [
    "df_train.loc[df_train.HasCrCard == 0, 'HasCrCard'] = -1\n",
    "df_train.loc[df_train.IsActiveMember == 0, 'IsActiveMember'] = -1\n",
    "df_train.head()"
   ]
  },
  {
   "cell_type": "code",
   "execution_count": 17,
   "id": "74886363",
   "metadata": {},
   "outputs": [
    {
     "name": "stderr",
     "output_type": "stream",
     "text": [
      "C:\\Users\\DRISHT~1\\AppData\\Local\\Temp/ipykernel_20996/3143413200.py:4: DeprecationWarning: `np.str` is a deprecated alias for the builtin `str`. To silence this warning, use `str` by itself. Doing this will not modify any behavior and is safe. If you specifically wanted the numpy scalar type, use `np.str_` here.\n",
      "Deprecated in NumPy 1.20; for more details and guidance: https://numpy.org/devdocs/release/1.20.0-notes.html#deprecations\n",
      "  if (df_train[i].dtype == np.str or df_train[i].dtype == np.object):\n",
      "C:\\Users\\DRISHT~1\\AppData\\Local\\Temp/ipykernel_20996/3143413200.py:4: DeprecationWarning: `np.object` is a deprecated alias for the builtin `object`. To silence this warning, use `object` by itself. Doing this will not modify any behavior and is safe. \n",
      "Deprecated in NumPy 1.20; for more details and guidance: https://numpy.org/devdocs/release/1.20.0-notes.html#deprecations\n",
      "  if (df_train[i].dtype == np.str or df_train[i].dtype == np.object):\n"
     ]
    },
    {
     "data": {
      "text/html": [
       "<div>\n",
       "<style scoped>\n",
       "    .dataframe tbody tr th:only-of-type {\n",
       "        vertical-align: middle;\n",
       "    }\n",
       "\n",
       "    .dataframe tbody tr th {\n",
       "        vertical-align: top;\n",
       "    }\n",
       "\n",
       "    .dataframe thead th {\n",
       "        text-align: right;\n",
       "    }\n",
       "</style>\n",
       "<table border=\"1\" class=\"dataframe\">\n",
       "  <thead>\n",
       "    <tr style=\"text-align: right;\">\n",
       "      <th></th>\n",
       "      <th>Exited</th>\n",
       "      <th>CreditScore</th>\n",
       "      <th>Age</th>\n",
       "      <th>Tenure</th>\n",
       "      <th>Balance</th>\n",
       "      <th>NumOfProducts</th>\n",
       "      <th>EstimatedSalary</th>\n",
       "      <th>BalanceSalaryRatio</th>\n",
       "      <th>TenureByAge</th>\n",
       "      <th>CreditScoreGivenAge</th>\n",
       "      <th>HasCrCard</th>\n",
       "      <th>IsActiveMember</th>\n",
       "      <th>Geography_Spain</th>\n",
       "      <th>Geography_France</th>\n",
       "      <th>Geography_Germany</th>\n",
       "      <th>Gender_Female</th>\n",
       "      <th>Gender_Male</th>\n",
       "    </tr>\n",
       "  </thead>\n",
       "  <tbody>\n",
       "    <tr>\n",
       "      <th>8159</th>\n",
       "      <td>0</td>\n",
       "      <td>461</td>\n",
       "      <td>25</td>\n",
       "      <td>6</td>\n",
       "      <td>0.00</td>\n",
       "      <td>2</td>\n",
       "      <td>15306.29</td>\n",
       "      <td>0.000000</td>\n",
       "      <td>0.240000</td>\n",
       "      <td>18.440000</td>\n",
       "      <td>1</td>\n",
       "      <td>1</td>\n",
       "      <td>1</td>\n",
       "      <td>-1</td>\n",
       "      <td>-1</td>\n",
       "      <td>1</td>\n",
       "      <td>-1</td>\n",
       "    </tr>\n",
       "    <tr>\n",
       "      <th>6332</th>\n",
       "      <td>0</td>\n",
       "      <td>619</td>\n",
       "      <td>35</td>\n",
       "      <td>4</td>\n",
       "      <td>90413.12</td>\n",
       "      <td>1</td>\n",
       "      <td>20555.21</td>\n",
       "      <td>4.398550</td>\n",
       "      <td>0.114286</td>\n",
       "      <td>17.685714</td>\n",
       "      <td>1</td>\n",
       "      <td>1</td>\n",
       "      <td>-1</td>\n",
       "      <td>1</td>\n",
       "      <td>-1</td>\n",
       "      <td>1</td>\n",
       "      <td>-1</td>\n",
       "    </tr>\n",
       "    <tr>\n",
       "      <th>8895</th>\n",
       "      <td>0</td>\n",
       "      <td>699</td>\n",
       "      <td>40</td>\n",
       "      <td>8</td>\n",
       "      <td>122038.34</td>\n",
       "      <td>1</td>\n",
       "      <td>102085.35</td>\n",
       "      <td>1.195454</td>\n",
       "      <td>0.200000</td>\n",
       "      <td>17.475000</td>\n",
       "      <td>1</td>\n",
       "      <td>-1</td>\n",
       "      <td>-1</td>\n",
       "      <td>1</td>\n",
       "      <td>-1</td>\n",
       "      <td>1</td>\n",
       "      <td>-1</td>\n",
       "    </tr>\n",
       "    <tr>\n",
       "      <th>5351</th>\n",
       "      <td>0</td>\n",
       "      <td>558</td>\n",
       "      <td>41</td>\n",
       "      <td>2</td>\n",
       "      <td>124227.14</td>\n",
       "      <td>1</td>\n",
       "      <td>111184.67</td>\n",
       "      <td>1.117305</td>\n",
       "      <td>0.048780</td>\n",
       "      <td>13.609756</td>\n",
       "      <td>1</td>\n",
       "      <td>1</td>\n",
       "      <td>-1</td>\n",
       "      <td>-1</td>\n",
       "      <td>1</td>\n",
       "      <td>-1</td>\n",
       "      <td>1</td>\n",
       "    </tr>\n",
       "    <tr>\n",
       "      <th>4314</th>\n",
       "      <td>0</td>\n",
       "      <td>638</td>\n",
       "      <td>34</td>\n",
       "      <td>5</td>\n",
       "      <td>133501.36</td>\n",
       "      <td>1</td>\n",
       "      <td>155643.04</td>\n",
       "      <td>0.857741</td>\n",
       "      <td>0.147059</td>\n",
       "      <td>18.764706</td>\n",
       "      <td>-1</td>\n",
       "      <td>1</td>\n",
       "      <td>-1</td>\n",
       "      <td>1</td>\n",
       "      <td>-1</td>\n",
       "      <td>-1</td>\n",
       "      <td>1</td>\n",
       "    </tr>\n",
       "  </tbody>\n",
       "</table>\n",
       "</div>"
      ],
      "text/plain": [
       "      Exited  CreditScore  Age  Tenure    Balance  NumOfProducts  \\\n",
       "8159       0          461   25       6       0.00              2   \n",
       "6332       0          619   35       4   90413.12              1   \n",
       "8895       0          699   40       8  122038.34              1   \n",
       "5351       0          558   41       2  124227.14              1   \n",
       "4314       0          638   34       5  133501.36              1   \n",
       "\n",
       "      EstimatedSalary  BalanceSalaryRatio  TenureByAge  CreditScoreGivenAge  \\\n",
       "8159         15306.29            0.000000     0.240000            18.440000   \n",
       "6332         20555.21            4.398550     0.114286            17.685714   \n",
       "8895        102085.35            1.195454     0.200000            17.475000   \n",
       "5351        111184.67            1.117305     0.048780            13.609756   \n",
       "4314        155643.04            0.857741     0.147059            18.764706   \n",
       "\n",
       "      HasCrCard  IsActiveMember  Geography_Spain  Geography_France  \\\n",
       "8159          1               1                1                -1   \n",
       "6332          1               1               -1                 1   \n",
       "8895          1              -1               -1                 1   \n",
       "5351          1               1               -1                -1   \n",
       "4314         -1               1               -1                 1   \n",
       "\n",
       "      Geography_Germany  Gender_Female  Gender_Male  \n",
       "8159                 -1              1           -1  \n",
       "6332                 -1              1           -1  \n",
       "8895                 -1              1           -1  \n",
       "5351                  1             -1            1  \n",
       "4314                 -1             -1            1  "
      ]
     },
     "execution_count": 17,
     "metadata": {},
     "output_type": "execute_result"
    }
   ],
   "source": [
    "lst = ['Geography', 'Gender']\n",
    "remove = list()\n",
    "for i in lst:\n",
    "    if (df_train[i].dtype == np.str or df_train[i].dtype == np.object):\n",
    "        for j in df_train[i].unique():\n",
    "            df_train[i+'_'+j] = np.where(df_train[i] == j,1,-1)\n",
    "        remove.append(i)\n",
    "df_train = df_train.drop(remove, axis=1)\n",
    "df_train.head()"
   ]
  },
  {
   "cell_type": "code",
   "execution_count": 18,
   "id": "256915f0",
   "metadata": {},
   "outputs": [
    {
     "data": {
      "text/html": [
       "<div>\n",
       "<style scoped>\n",
       "    .dataframe tbody tr th:only-of-type {\n",
       "        vertical-align: middle;\n",
       "    }\n",
       "\n",
       "    .dataframe tbody tr th {\n",
       "        vertical-align: top;\n",
       "    }\n",
       "\n",
       "    .dataframe thead th {\n",
       "        text-align: right;\n",
       "    }\n",
       "</style>\n",
       "<table border=\"1\" class=\"dataframe\">\n",
       "  <thead>\n",
       "    <tr style=\"text-align: right;\">\n",
       "      <th></th>\n",
       "      <th>Exited</th>\n",
       "      <th>CreditScore</th>\n",
       "      <th>Age</th>\n",
       "      <th>Tenure</th>\n",
       "      <th>Balance</th>\n",
       "      <th>NumOfProducts</th>\n",
       "      <th>EstimatedSalary</th>\n",
       "      <th>BalanceSalaryRatio</th>\n",
       "      <th>TenureByAge</th>\n",
       "      <th>CreditScoreGivenAge</th>\n",
       "      <th>HasCrCard</th>\n",
       "      <th>IsActiveMember</th>\n",
       "      <th>Geography_Spain</th>\n",
       "      <th>Geography_France</th>\n",
       "      <th>Geography_Germany</th>\n",
       "      <th>Gender_Female</th>\n",
       "      <th>Gender_Male</th>\n",
       "    </tr>\n",
       "  </thead>\n",
       "  <tbody>\n",
       "    <tr>\n",
       "      <th>8159</th>\n",
       "      <td>0</td>\n",
       "      <td>0.222</td>\n",
       "      <td>0.094595</td>\n",
       "      <td>0.6</td>\n",
       "      <td>0.000000</td>\n",
       "      <td>0.333333</td>\n",
       "      <td>0.076118</td>\n",
       "      <td>0.000000</td>\n",
       "      <td>0.432000</td>\n",
       "      <td>0.323157</td>\n",
       "      <td>1</td>\n",
       "      <td>1</td>\n",
       "      <td>1</td>\n",
       "      <td>-1</td>\n",
       "      <td>-1</td>\n",
       "      <td>1</td>\n",
       "      <td>-1</td>\n",
       "    </tr>\n",
       "    <tr>\n",
       "      <th>6332</th>\n",
       "      <td>0</td>\n",
       "      <td>0.538</td>\n",
       "      <td>0.229730</td>\n",
       "      <td>0.4</td>\n",
       "      <td>0.360358</td>\n",
       "      <td>0.000000</td>\n",
       "      <td>0.102376</td>\n",
       "      <td>0.003317</td>\n",
       "      <td>0.205714</td>\n",
       "      <td>0.305211</td>\n",
       "      <td>1</td>\n",
       "      <td>1</td>\n",
       "      <td>-1</td>\n",
       "      <td>1</td>\n",
       "      <td>-1</td>\n",
       "      <td>1</td>\n",
       "      <td>-1</td>\n",
       "    </tr>\n",
       "    <tr>\n",
       "      <th>8895</th>\n",
       "      <td>0</td>\n",
       "      <td>0.698</td>\n",
       "      <td>0.297297</td>\n",
       "      <td>0.8</td>\n",
       "      <td>0.486406</td>\n",
       "      <td>0.000000</td>\n",
       "      <td>0.510225</td>\n",
       "      <td>0.000901</td>\n",
       "      <td>0.360000</td>\n",
       "      <td>0.300198</td>\n",
       "      <td>1</td>\n",
       "      <td>-1</td>\n",
       "      <td>-1</td>\n",
       "      <td>1</td>\n",
       "      <td>-1</td>\n",
       "      <td>1</td>\n",
       "      <td>-1</td>\n",
       "    </tr>\n",
       "    <tr>\n",
       "      <th>5351</th>\n",
       "      <td>0</td>\n",
       "      <td>0.416</td>\n",
       "      <td>0.310811</td>\n",
       "      <td>0.2</td>\n",
       "      <td>0.495130</td>\n",
       "      <td>0.000000</td>\n",
       "      <td>0.555744</td>\n",
       "      <td>0.000843</td>\n",
       "      <td>0.087805</td>\n",
       "      <td>0.208238</td>\n",
       "      <td>1</td>\n",
       "      <td>1</td>\n",
       "      <td>-1</td>\n",
       "      <td>-1</td>\n",
       "      <td>1</td>\n",
       "      <td>-1</td>\n",
       "      <td>1</td>\n",
       "    </tr>\n",
       "    <tr>\n",
       "      <th>4314</th>\n",
       "      <td>0</td>\n",
       "      <td>0.576</td>\n",
       "      <td>0.216216</td>\n",
       "      <td>0.5</td>\n",
       "      <td>0.532094</td>\n",
       "      <td>0.000000</td>\n",
       "      <td>0.778145</td>\n",
       "      <td>0.000647</td>\n",
       "      <td>0.264706</td>\n",
       "      <td>0.330882</td>\n",
       "      <td>-1</td>\n",
       "      <td>1</td>\n",
       "      <td>-1</td>\n",
       "      <td>1</td>\n",
       "      <td>-1</td>\n",
       "      <td>-1</td>\n",
       "      <td>1</td>\n",
       "    </tr>\n",
       "  </tbody>\n",
       "</table>\n",
       "</div>"
      ],
      "text/plain": [
       "      Exited  CreditScore       Age  Tenure   Balance  NumOfProducts  \\\n",
       "8159       0        0.222  0.094595     0.6  0.000000       0.333333   \n",
       "6332       0        0.538  0.229730     0.4  0.360358       0.000000   \n",
       "8895       0        0.698  0.297297     0.8  0.486406       0.000000   \n",
       "5351       0        0.416  0.310811     0.2  0.495130       0.000000   \n",
       "4314       0        0.576  0.216216     0.5  0.532094       0.000000   \n",
       "\n",
       "      EstimatedSalary  BalanceSalaryRatio  TenureByAge  CreditScoreGivenAge  \\\n",
       "8159         0.076118            0.000000     0.432000             0.323157   \n",
       "6332         0.102376            0.003317     0.205714             0.305211   \n",
       "8895         0.510225            0.000901     0.360000             0.300198   \n",
       "5351         0.555744            0.000843     0.087805             0.208238   \n",
       "4314         0.778145            0.000647     0.264706             0.330882   \n",
       "\n",
       "      HasCrCard  IsActiveMember  Geography_Spain  Geography_France  \\\n",
       "8159          1               1                1                -1   \n",
       "6332          1               1               -1                 1   \n",
       "8895          1              -1               -1                 1   \n",
       "5351          1               1               -1                -1   \n",
       "4314         -1               1               -1                 1   \n",
       "\n",
       "      Geography_Germany  Gender_Female  Gender_Male  \n",
       "8159                 -1              1           -1  \n",
       "6332                 -1              1           -1  \n",
       "8895                 -1              1           -1  \n",
       "5351                  1             -1            1  \n",
       "4314                 -1             -1            1  "
      ]
     },
     "execution_count": 18,
     "metadata": {},
     "output_type": "execute_result"
    }
   ],
   "source": [
    "# minMax scaling the continuous variables\n",
    "minVec = df_train[continuous_vars].min().copy()\n",
    "maxVec = df_train[continuous_vars].max().copy()\n",
    "df_train[continuous_vars] = (df_train[continuous_vars]-minVec)/(maxVec-minVec)\n",
    "df_train.head()"
   ]
  },
  {
   "cell_type": "code",
   "execution_count": 19,
   "id": "d1d67c8f",
   "metadata": {},
   "outputs": [],
   "source": [
    "# data prep pipeline for test data\n",
    "def DfPrepPipeline(df_predict,df_train_Cols,minVec,maxVec):\n",
    "    # Add new features\n",
    "    df_predict['BalanceSalaryRatio'] = df_predict.Balance/df_predict.EstimatedSalary\n",
    "    df_predict['TenureByAge'] = df_predict.Tenure/(df_predict.Age - 18)\n",
    "    df_predict['CreditScoreGivenAge'] = df_predict.CreditScore/(df_predict.Age - 18)\n",
    "    # Reorder the columns\n",
    "    continuous_vars = ['CreditScore','Age','Tenure','Balance','NumOfProducts','EstimatedSalary','BalanceSalaryRatio',\n",
    "                   'TenureByAge','CreditScoreGivenAge']\n",
    "    cat_vars = ['HasCrCard','IsActiveMember',\"Geography\", \"Gender\"] \n",
    "    df_predict = df_predict[['Exited'] + continuous_vars + cat_vars]\n",
    "    # Change the 0 in categorical variables to -1\n",
    "    df_predict.loc[df_predict.HasCrCard == 0, 'HasCrCard'] = -1\n",
    "    df_predict.loc[df_predict.IsActiveMember == 0, 'IsActiveMember'] = -1\n",
    "    # One hot encode the categorical variables\n",
    "    lst = [\"Geography\", \"Gender\"]\n",
    "    remove = list()\n",
    "    for i in lst:\n",
    "        for j in df_predict[i].unique():\n",
    "            df_predict[i+'_'+j] = np.where(df_predict[i] == j,1,-1)\n",
    "        remove.append(i)\n",
    "    df_predict = df_predict.drop(remove, axis=1)\n",
    "    # Ensure that all one hot encoded variables that appear in the train data appear in the subsequent data\n",
    "    L = list(set(df_train_Cols) - set(df_predict.columns))\n",
    "    for l in L:\n",
    "        df_predict[str(l)] = -1        \n",
    "    # MinMax scaling coontinuous variables based on min and max from the train data\n",
    "    df_predict[continuous_vars] = (df_predict[continuous_vars]-minVec)/(maxVec-minVec)\n",
    "    # Ensure that The variables are ordered in the same way as was ordered in the train set\n",
    "    df_predict = df_predict[df_train_Cols]\n",
    "    return df_predict"
   ]
  },
  {
   "cell_type": "code",
   "execution_count": 53,
   "id": "86b7097e",
   "metadata": {},
   "outputs": [],
   "source": [
    "from sklearn.preprocessing import PolynomialFeatures\n",
    "from sklearn.model_selection import cross_val_score\n",
    "from sklearn.model_selection import GridSearchCV\n",
    "from scipy.stats import uniform\n",
    "\n",
    "# Fit models\n",
    "from sklearn.linear_model import LogisticRegression\n",
    "from sklearn.svm import SVC\n",
    "from sklearn.ensemble import RandomForestClassifier\n",
    "from xgboost import XGBClassifier\n",
    "\n",
    "# Scoring functions\n",
    "from sklearn.metrics import accuracy_score\n",
    "from sklearn.metrics import classification_report\n",
    "from sklearn.metrics import roc_auc_score\n",
    "from sklearn.metrics import roc_curve\n",
    "from sklearn.impute import SimpleImputer\n",
    "# Function to give best model score and parameters\n",
    "def best_model(model):\n",
    "    print(model.best_score_)    \n",
    "    print(model.best_params_)\n",
    "    print(model.best_estimator_)\n",
    "def get_auc_scores(y_actual, method,method2):\n",
    "    auc_score = roc_auc_score(y_actual, method); \n",
    "    fpr_df, tpr_df, _ = roc_curve(y_actual, method2); \n",
    "    return (auc_score, fpr_df, tpr_df)"
   ]
  },
  {
   "cell_type": "code",
   "execution_count": 39,
   "id": "28dd2642",
   "metadata": {},
   "outputs": [],
   "source": [
    "# Function to give best model score and parameters\n",
    "def best_model(model):\n",
    "    print(model.best_score_)    \n",
    "    print(model.best_params_)\n",
    "    print(model.best_estimator_)\n",
    "def get_auc_scores(y_actual, method,method2):\n",
    "    auc_score = roc_auc_score(y_actual, method); \n",
    "    fpr_df, tpr_df, _ = roc_curve(y_actual, method2); \n",
    "    return (auc_score, fpr_df, tpr_df)"
   ]
  },
  {
   "cell_type": "code",
   "execution_count": 40,
   "id": "c49c679f",
   "metadata": {},
   "outputs": [
    {
     "data": {
      "text/plain": [
       "LogisticRegression(C=100, max_iter=250, multi_class='multinomial', tol=1e-05)"
      ]
     },
     "execution_count": 40,
     "metadata": {},
     "output_type": "execute_result"
    }
   ],
   "source": [
    "# Fit primal logistic regression\n",
    "log_primal = LogisticRegression(C=100, class_weight=None, dual=False, fit_intercept=True,intercept_scaling=1, max_iter=250, multi_class='multinomial',n_jobs=None, \n",
    "                                penalty='l2', random_state=None, solver='lbfgs',tol=1e-05, verbose=0, warm_start=False)\n",
    "log_primal.fit(df_train.loc[:, df_train.columns != 'Exited'],df_train.Exited)"
   ]
  },
  {
   "cell_type": "code",
   "execution_count": 41,
   "id": "7850f29f",
   "metadata": {},
   "outputs": [
    {
     "name": "stderr",
     "output_type": "stream",
     "text": [
      "C:\\Users\\DRISHTI DHINGRA\\anaconda3\\lib\\site-packages\\sklearn\\linear_model\\_logistic.py:763: ConvergenceWarning: lbfgs failed to converge (status=1):\n",
      "STOP: TOTAL NO. of ITERATIONS REACHED LIMIT.\n",
      "\n",
      "Increase the number of iterations (max_iter) or scale the data as shown in:\n",
      "    https://scikit-learn.org/stable/modules/preprocessing.html\n",
      "Please also refer to the documentation for alternative solver options:\n",
      "    https://scikit-learn.org/stable/modules/linear_model.html#logistic-regression\n",
      "  n_iter_i = _check_optimize_result(\n"
     ]
    },
    {
     "data": {
      "text/plain": [
       "LogisticRegression(C=10, max_iter=300, multi_class='multinomial')"
      ]
     },
     "execution_count": 41,
     "metadata": {},
     "output_type": "execute_result"
    }
   ],
   "source": [
    "# Fit logistic regression with pol 2 kernel\n",
    "poly2 = PolynomialFeatures(degree=2)\n",
    "df_train_pol2 = poly2.fit_transform(df_train.loc[:, df_train.columns != 'Exited'])\n",
    "log_pol2 = LogisticRegression(C=10, class_weight=None, dual=False, fit_intercept=True,intercept_scaling=1, max_iter=300, multi_class='multinomial', n_jobs=None, \n",
    "                              penalty='l2', random_state=None, solver='lbfgs',tol=0.0001, verbose=0, warm_start=False)\n",
    "log_pol2.fit(df_train_pol2,df_train.Exited)"
   ]
  },
  {
   "cell_type": "code",
   "execution_count": 42,
   "id": "b998f7c2",
   "metadata": {},
   "outputs": [
    {
     "data": {
      "text/plain": [
       "SVC(C=100, gamma=0.1, probability=True)"
      ]
     },
     "execution_count": 42,
     "metadata": {},
     "output_type": "execute_result"
    }
   ],
   "source": [
    "# Fit SVM with RBF Kernel\n",
    "SVM_RBF = SVC(C=100, cache_size=200, class_weight=None, coef0=0.0, decision_function_shape='ovr', degree=3, gamma=0.1, kernel='rbf', max_iter=-1, probability=True, \n",
    "              random_state=None, shrinking=True,tol=0.001, verbose=False)\n",
    "SVM_RBF.fit(df_train.loc[:, df_train.columns != 'Exited'],df_train.Exited)"
   ]
  },
  {
   "cell_type": "code",
   "execution_count": 43,
   "id": "3baa0928",
   "metadata": {},
   "outputs": [
    {
     "data": {
      "text/plain": [
       "SVC(C=100, degree=2, gamma=0.1, kernel='poly', probability=True)"
      ]
     },
     "execution_count": 43,
     "metadata": {},
     "output_type": "execute_result"
    }
   ],
   "source": [
    "# Fit SVM with Pol Kernel\n",
    "SVM_POL = SVC(C=100, cache_size=200, class_weight=None, coef0=0.0,  decision_function_shape='ovr', degree=2, gamma=0.1, kernel='poly',  max_iter=-1,\n",
    "              probability=True, random_state=None, shrinking=True, tol=0.001, verbose=False)\n",
    "SVM_POL.fit(df_train.loc[:, df_train.columns != 'Exited'],df_train.Exited)"
   ]
  },
  {
   "cell_type": "code",
   "execution_count": 44,
   "id": "48d473b4",
   "metadata": {},
   "outputs": [
    {
     "data": {
      "text/plain": [
       "RandomForestClassifier(max_depth=8, max_features=6, min_samples_split=3,\n",
       "                       n_estimators=50)"
      ]
     },
     "execution_count": 44,
     "metadata": {},
     "output_type": "execute_result"
    }
   ],
   "source": [
    "# Fit Random Forest classifier\n",
    "RF = RandomForestClassifier(bootstrap=True, class_weight=None, criterion='gini',max_depth=8, max_features=6, max_leaf_nodes=None,min_impurity_decrease=0.0,\n",
    "                            min_impurity_split=None,min_samples_leaf=1, min_samples_split=3,min_weight_fraction_leaf=0.0, n_estimators=50, n_jobs=None,\n",
    "                            oob_score=False, random_state=None, verbose=0,warm_start=False)\n",
    "RF.fit(df_train.loc[:, df_train.columns != 'Exited'],df_train.Exited)"
   ]
  },
  {
   "cell_type": "code",
   "execution_count": 45,
   "id": "94c6f618",
   "metadata": {},
   "outputs": [
    {
     "name": "stdout",
     "output_type": "stream",
     "text": [
      "[21:44:33] WARNING: C:\\Users\\dev-admin\\croot2\\xgboost-split_1675461376218\\work\\src\\learner.cc:767: \n",
      "Parameters: { \"silent\" } are not used.\n",
      "\n"
     ]
    },
    {
     "data": {
      "text/plain": [
       "XGBClassifier(base_score=0.5, booster='gbtree', callbacks=None,\n",
       "              colsample_bylevel=1, colsample_bynode=None, colsample_bytree=1,\n",
       "              early_stopping_rounds=None, enable_categorical=False,\n",
       "              eval_metric=None, feature_types=None, gamma=0.01, gpu_id=None,\n",
       "              grow_policy=None, importance_type=None,\n",
       "              interaction_constraints=None, learning_rate=0.1, max_bin=None,\n",
       "              max_cat_threshold=None, max_cat_to_onehot=None, max_delta_step=0,\n",
       "              max_depth=7, max_leaves=None, min_child_weight=5, missing=None,\n",
       "              monotone_constraints=None, n_estimators=20, n_jobs=1,\n",
       "              nthread=None, num_parallel_tree=None, predictor=None, ...)"
      ]
     },
     "execution_count": 45,
     "metadata": {},
     "output_type": "execute_result"
    }
   ],
   "source": [
    "# Fit Extreme Gradient Boost Classifier\n",
    "XGB = XGBClassifier(base_score=0.5, booster='gbtree', colsample_bylevel=1,colsample_bytree=1, gamma=0.01, learning_rate=0.1, max_delta_step=0,max_depth=7,\n",
    "                    min_child_weight=5, missing=None, n_estimators=20,n_jobs=1, nthread=None, objective='binary:logistic', random_state=0,reg_alpha=0, \n",
    "                    reg_lambda=1, scale_pos_weight=1, seed=None, silent=True, subsample=1)\n",
    "XGB.fit(df_train.loc[:, df_train.columns != 'Exited'],df_train.Exited)"
   ]
  },
  {
   "cell_type": "code",
   "execution_count": 46,
   "id": "4afa056d",
   "metadata": {},
   "outputs": [
    {
     "name": "stdout",
     "output_type": "stream",
     "text": [
      "              precision    recall  f1-score   support\n",
      "\n",
      "           0       0.83      0.97      0.89      6353\n",
      "           1       0.64      0.24      0.35      1647\n",
      "\n",
      "    accuracy                           0.82      8000\n",
      "   macro avg       0.73      0.60      0.62      8000\n",
      "weighted avg       0.79      0.82      0.78      8000\n",
      "\n"
     ]
    }
   ],
   "source": [
    "print(classification_report(df_train.Exited, log_primal.predict(df_train.loc[:, df_train.columns != 'Exited'])))"
   ]
  },
  {
   "cell_type": "code",
   "execution_count": 47,
   "id": "2f58d551",
   "metadata": {},
   "outputs": [
    {
     "name": "stdout",
     "output_type": "stream",
     "text": [
      "              precision    recall  f1-score   support\n",
      "\n",
      "           0       0.87      0.96      0.92      6353\n",
      "           1       0.77      0.46      0.57      1647\n",
      "\n",
      "    accuracy                           0.86      8000\n",
      "   macro avg       0.82      0.71      0.75      8000\n",
      "weighted avg       0.85      0.86      0.85      8000\n",
      "\n"
     ]
    }
   ],
   "source": [
    "print(classification_report(df_train.Exited,  log_pol2.predict(df_train_pol2)))"
   ]
  },
  {
   "cell_type": "code",
   "execution_count": 48,
   "id": "a13731ff",
   "metadata": {},
   "outputs": [
    {
     "name": "stdout",
     "output_type": "stream",
     "text": [
      "              precision    recall  f1-score   support\n",
      "\n",
      "           0       0.86      0.98      0.92      6353\n",
      "           1       0.85      0.40      0.54      1647\n",
      "\n",
      "    accuracy                           0.86      8000\n",
      "   macro avg       0.86      0.69      0.73      8000\n",
      "weighted avg       0.86      0.86      0.84      8000\n",
      "\n"
     ]
    }
   ],
   "source": [
    "print(classification_report(df_train.Exited,  SVM_RBF.predict(df_train.loc[:, df_train.columns != 'Exited'])))"
   ]
  },
  {
   "cell_type": "code",
   "execution_count": 49,
   "id": "cc2d6981",
   "metadata": {},
   "outputs": [
    {
     "name": "stdout",
     "output_type": "stream",
     "text": [
      "              precision    recall  f1-score   support\n",
      "\n",
      "           0       0.86      0.98      0.92      6353\n",
      "           1       0.84      0.38      0.52      1647\n",
      "\n",
      "    accuracy                           0.86      8000\n",
      "   macro avg       0.85      0.68      0.72      8000\n",
      "weighted avg       0.85      0.86      0.83      8000\n",
      "\n"
     ]
    }
   ],
   "source": [
    "print(classification_report(df_train.Exited,  SVM_POL.predict(df_train.loc[:, df_train.columns != 'Exited'])))"
   ]
  },
  {
   "cell_type": "code",
   "execution_count": 50,
   "id": "6ae35779",
   "metadata": {},
   "outputs": [
    {
     "name": "stdout",
     "output_type": "stream",
     "text": [
      "              precision    recall  f1-score   support\n",
      "\n",
      "           0       0.89      0.98      0.93      6353\n",
      "           1       0.89      0.52      0.66      1647\n",
      "\n",
      "    accuracy                           0.89      8000\n",
      "   macro avg       0.89      0.75      0.79      8000\n",
      "weighted avg       0.89      0.89      0.88      8000\n",
      "\n"
     ]
    }
   ],
   "source": [
    "print(classification_report(df_train.Exited,  RF.predict(df_train.loc[:, df_train.columns != 'Exited'])))"
   ]
  },
  {
   "cell_type": "code",
   "execution_count": 57,
   "id": "a83c92a1",
   "metadata": {},
   "outputs": [
    {
     "name": "stdout",
     "output_type": "stream",
     "text": [
      "Classification Report for Training Data:\n",
      "              precision    recall  f1-score   support\n",
      "\n",
      "           0       0.96      0.99      0.98      6353\n",
      "           1       0.97      0.84      0.90      1647\n",
      "\n",
      "    accuracy                           0.96      8000\n",
      "   macro avg       0.97      0.92      0.94      8000\n",
      "weighted avg       0.96      0.96      0.96      8000\n",
      "\n"
     ]
    }
   ],
   "source": [
    "xgb_model.fit(df_train.loc[:, df_train.columns != 'Exited'], df_train.Exited)\n",
    "\n",
    "# Make predictions using the training dataset\n",
    "predictions_train = xgb_model.predict(df_train.loc[:, df_train.columns != 'Exited'])\n",
    "\n",
    "# Generate and print the classification report for the training dataset\n",
    "print(\"Classification Report for Training Data:\")\n",
    "print(classification_report(df_train.Exited, predictions_train))"
   ]
  },
  {
   "cell_type": "code",
   "execution_count": 60,
   "id": "b0c29be8",
   "metadata": {},
   "outputs": [
    {
     "name": "stdout",
     "output_type": "stream",
     "text": [
      "CreditScore            0\n",
      "Age                    0\n",
      "Tenure                 0\n",
      "Balance                0\n",
      "NumOfProducts          0\n",
      "EstimatedSalary        0\n",
      "BalanceSalaryRatio     0\n",
      "TenureByAge            0\n",
      "CreditScoreGivenAge    0\n",
      "HasCrCard              0\n",
      "IsActiveMember         0\n",
      "Geography_Spain        0\n",
      "Geography_France       0\n",
      "Geography_Germany      0\n",
      "Gender_Female          0\n",
      "Gender_Male            0\n",
      "dtype: int64\n",
      "AUC Score: 0.9176281379526006\n",
      "Classification Report:\n",
      "              precision    recall  f1-score   support\n",
      "\n",
      "           0       0.96      0.99      0.98      6353\n",
      "           1       0.97      0.84      0.90      1647\n",
      "\n",
      "    accuracy                           0.96      8000\n",
      "   macro avg       0.97      0.92      0.94      8000\n",
      "weighted avg       0.96      0.96      0.96      8000\n",
      "\n"
     ]
    }
   ],
   "source": [
    "y = df_train.Exited\n",
    "X = df_train.loc[:, df_train.columns != 'Exited']\n",
    "\n",
    "# Check for missing values in X\n",
    "print(X.isnull().sum())  # Check if there are any missing values in X\n",
    "\n",
    "# Handle missing values using imputation (replace missing values with the mean)\n",
    "imputer = SimpleImputer(strategy='mean')\n",
    "X_imputed = imputer.fit_transform(X)\n",
    "\n",
    "# Convert the imputed array back to a DataFrame\n",
    "X_imputed = pd.DataFrame(X_imputed, columns=X.columns)\n",
    "\n",
    "# Now make predictions using the XGBoost model\n",
    "xgb_model = XGBClassifier()\n",
    "xgb_model.fit(X_imputed, y)\n",
    "\n",
    "# Make predictions and calculate AUC scores\n",
    "predictions = xgb_model.predict(X_imputed)\n",
    "proba_predictions = xgb_model.predict_proba(X_imputed)[:, 1]\n",
    "\n",
    "# Calculate AUC scores and classification report\n",
    "auc_score, fpr, tpr = get_auc_scores(y, predictions, proba_predictions)\n",
    "print(\"AUC Score:\", auc_score)\n",
    "print(\"Classification Report:\")\n",
    "print(classification_report(y, predictions))"
   ]
  },
  {
   "cell_type": "code",
   "execution_count": 66,
   "id": "a5eac730",
   "metadata": {},
   "outputs": [
    {
     "ename": "NameError",
     "evalue": "name 'fpr_XGB' is not defined",
     "output_type": "error",
     "traceback": [
      "\u001b[1;31m---------------------------------------------------------------------------\u001b[0m",
      "\u001b[1;31mNameError\u001b[0m                                 Traceback (most recent call last)",
      "\u001b[1;32mC:\\Users\\DRISHT~1\\AppData\\Local\\Temp/ipykernel_20996/3344390860.py\u001b[0m in \u001b[0;36m<module>\u001b[1;34m\u001b[0m\n\u001b[0;32m      5\u001b[0m \u001b[0mplt\u001b[0m\u001b[1;33m.\u001b[0m\u001b[0mplot\u001b[0m\u001b[1;33m(\u001b[0m\u001b[0mfpr_SVM_POL\u001b[0m\u001b[1;33m,\u001b[0m \u001b[0mtpr_SVM_POL\u001b[0m\u001b[1;33m,\u001b[0m \u001b[0mlabel\u001b[0m \u001b[1;33m=\u001b[0m \u001b[1;34m'SVM POL Score: '\u001b[0m \u001b[1;33m+\u001b[0m \u001b[0mstr\u001b[0m\u001b[1;33m(\u001b[0m\u001b[0mround\u001b[0m\u001b[1;33m(\u001b[0m\u001b[0mauc_SVM_POL\u001b[0m\u001b[1;33m,\u001b[0m \u001b[1;36m5\u001b[0m\u001b[1;33m)\u001b[0m\u001b[1;33m)\u001b[0m\u001b[1;33m)\u001b[0m\u001b[1;33m\u001b[0m\u001b[1;33m\u001b[0m\u001b[0m\n\u001b[0;32m      6\u001b[0m \u001b[0mplt\u001b[0m\u001b[1;33m.\u001b[0m\u001b[0mplot\u001b[0m\u001b[1;33m(\u001b[0m\u001b[0mfpr_RF\u001b[0m\u001b[1;33m,\u001b[0m \u001b[0mtpr_RF\u001b[0m\u001b[1;33m,\u001b[0m \u001b[0mlabel\u001b[0m \u001b[1;33m=\u001b[0m \u001b[1;34m'RF score: '\u001b[0m \u001b[1;33m+\u001b[0m \u001b[0mstr\u001b[0m\u001b[1;33m(\u001b[0m\u001b[0mround\u001b[0m\u001b[1;33m(\u001b[0m\u001b[0mauc_RF\u001b[0m\u001b[1;33m,\u001b[0m \u001b[1;36m5\u001b[0m\u001b[1;33m)\u001b[0m\u001b[1;33m)\u001b[0m\u001b[1;33m)\u001b[0m\u001b[1;33m\u001b[0m\u001b[1;33m\u001b[0m\u001b[0m\n\u001b[1;32m----> 7\u001b[1;33m \u001b[0mplt\u001b[0m\u001b[1;33m.\u001b[0m\u001b[0mplot\u001b[0m\u001b[1;33m(\u001b[0m\u001b[0mfpr_XGB\u001b[0m\u001b[1;33m,\u001b[0m \u001b[0mtpr_XGB\u001b[0m\u001b[1;33m,\u001b[0m \u001b[0mlabel\u001b[0m \u001b[1;33m=\u001b[0m \u001b[1;34m'XGB score: '\u001b[0m \u001b[1;33m+\u001b[0m \u001b[0mstr\u001b[0m\u001b[1;33m(\u001b[0m\u001b[0mround\u001b[0m\u001b[1;33m(\u001b[0m\u001b[0mauc_XGB\u001b[0m\u001b[1;33m,\u001b[0m \u001b[1;36m5\u001b[0m\u001b[1;33m)\u001b[0m\u001b[1;33m)\u001b[0m\u001b[1;33m)\u001b[0m\u001b[1;33m\u001b[0m\u001b[1;33m\u001b[0m\u001b[0m\n\u001b[0m\u001b[0;32m      8\u001b[0m \u001b[0mplt\u001b[0m\u001b[1;33m.\u001b[0m\u001b[0mplot\u001b[0m\u001b[1;33m(\u001b[0m\u001b[1;33m[\u001b[0m\u001b[1;36m0\u001b[0m\u001b[1;33m,\u001b[0m\u001b[1;36m1\u001b[0m\u001b[1;33m]\u001b[0m\u001b[1;33m,\u001b[0m \u001b[1;33m[\u001b[0m\u001b[1;36m0\u001b[0m\u001b[1;33m,\u001b[0m\u001b[1;36m1\u001b[0m\u001b[1;33m]\u001b[0m\u001b[1;33m,\u001b[0m \u001b[1;34m'k--'\u001b[0m\u001b[1;33m,\u001b[0m \u001b[0mlabel\u001b[0m \u001b[1;33m=\u001b[0m \u001b[1;34m'Random: 0.5'\u001b[0m\u001b[1;33m)\u001b[0m\u001b[1;33m\u001b[0m\u001b[1;33m\u001b[0m\u001b[0m\n\u001b[0;32m      9\u001b[0m \u001b[0mplt\u001b[0m\u001b[1;33m.\u001b[0m\u001b[0mxlabel\u001b[0m\u001b[1;33m(\u001b[0m\u001b[1;34m'False positive rate'\u001b[0m\u001b[1;33m)\u001b[0m\u001b[1;33m\u001b[0m\u001b[1;33m\u001b[0m\u001b[0m\n",
      "\u001b[1;31mNameError\u001b[0m: name 'fpr_XGB' is not defined"
     ]
    },
    {
     "data": {
      "image/png": "[encoded data removed]",
      "text/plain": [
       "<Figure size 864x432 with 1 Axes>"
      ]
     },
     "metadata": {
      "needs_background": "light"
     },
     "output_type": "display_data"
    }
   ],
   "source": [
    "plt.figure(figsize = (12,6), linewidth= 1)\n",
    "plt.plot(fpr_log_primal, tpr_log_primal, label = 'log primal Score: ' + str(round(auc_log_primal, 5)))\n",
    "plt.plot(fpr_log_pol2, tpr_log_pol2, label = 'log pol2 score: ' + str(round(auc_log_pol2, 5)))\n",
    "plt.plot(fpr_SVM_RBF, tpr_SVM_RBF, label = 'SVM RBF Score: ' + str(round(auc_SVM_RBF, 5)))\n",
    "plt.plot(fpr_SVM_POL, tpr_SVM_POL, label = 'SVM POL Score: ' + str(round(auc_SVM_POL, 5)))\n",
    "plt.plot(fpr_RF, tpr_RF, label = 'RF score: ' + str(round(auc_RF, 5)))\n",
    "plt.plot(fpr_XGB, tpr_XGB, label = 'XGB score: ' + str(round(auc_XGB, 5)))\n",
    "plt.plot([0,1], [0,1], 'k--', label = 'Random: 0.5')\n",
    "plt.xlabel('False positive rate')\n",
    "plt.ylabel('True positive rate')\n",
    "plt.title('ROC Curve')\n",
    "plt.legend(loc='best')\n",
    "#plt.savefig('roc_results_ratios.png')\n",
    "plt.show()"
   ]
  },
  {
   "cell_type": "code",
   "execution_count": 62,
   "id": "20a406cb",
   "metadata": {},
   "outputs": [
    {
     "data": {
      "text/plain": [
       "(1996, 17)"
      ]
     },
     "execution_count": 62,
     "metadata": {},
     "output_type": "execute_result"
    }
   ],
   "source": [
    "# Make the data transformation for test data\n",
    "df_test = DfPrepPipeline(df_test,df_train.columns,minVec,maxVec)\n",
    "df_test = df_test.mask(np.isinf(df_test))\n",
    "df_test = df_test.dropna()\n",
    "df_test.shape"
   ]
  },
  {
   "cell_type": "code",
   "execution_count": 63,
   "id": "c48641a2",
   "metadata": {},
   "outputs": [
    {
     "name": "stdout",
     "output_type": "stream",
     "text": [
      "              precision    recall  f1-score   support\n",
      "\n",
      "           0       0.87      0.98      0.92      1607\n",
      "           1       0.82      0.39      0.53       389\n",
      "\n",
      "    accuracy                           0.86      1996\n",
      "   macro avg       0.85      0.69      0.73      1996\n",
      "weighted avg       0.86      0.86      0.84      1996\n",
      "\n"
     ]
    }
   ],
   "source": [
    "print(classification_report(df_test.Exited,  RF.predict(df_test.loc[:, df_test.columns != 'Exited'])))"
   ]
  },
  {
   "cell_type": "code",
   "execution_count": 64,
   "id": "e938e63f",
   "metadata": {},
   "outputs": [
    {
     "data": {
      "image/png": "[encoded data removed]",
      "text/plain": [
       "<Figure size 864x432 with 1 Axes>"
      ]
     },
     "metadata": {
      "needs_background": "light"
     },
     "output_type": "display_data"
    }
   ],
   "source": [
    "auc_RF_test, fpr_RF_test, tpr_RF_test = get_auc_scores(df_test.Exited, RF.predict(df_test.loc[:, df_test.columns != 'Exited']),\n",
    "                                                       RF.predict_proba(df_test.loc[:, df_test.columns != 'Exited'])[:,1])\n",
    "plt.figure(figsize = (12,6), linewidth= 1)\n",
    "plt.plot(fpr_RF_test, tpr_RF_test, label = 'RF score: ' + str(round(auc_RF_test, 5)))\n",
    "plt.plot([0,1], [0,1], 'k--', label = 'Random: 0.5')\n",
    "plt.xlabel('False positive rate')\n",
    "plt.ylabel('True positive rate')\n",
    "plt.title('ROC Curve')\n",
    "plt.legend(loc='best')\n",
    "#plt.savefig('roc_results_ratios.png')\n",
    "plt.show()"
   ]
  },
  {
   "cell_type": "code",
   "execution_count": null,
   "id": "19160c59",
   "metadata": {},
   "outputs": [],
   "source": []
  }
 ],
 "metadata": {
  "kernelspec": {
   "display_name": "Python 3 (ipykernel)",
   "language": "python",
   "name": "python3"
  },
  "language_info": {
   "codemirror_mode": {
    "name": "ipython",
    "version": 3
   },
   "file_extension": ".py",
   "mimetype": "text/x-python",
   "name": "python",
   "nbconvert_exporter": "python",
   "pygments_lexer": "ipython3",
   "version": "3.9.7"
  }
 },
 "nbformat": 4,
 "nbformat_minor": 5
}
