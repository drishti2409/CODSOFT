{
 "cells": [
  {
   "cell_type": "markdown",
   "id": "229da945",
   "metadata": {},
   "source": [
    "Importing the Libraries"
   ]
  },
  {
   "cell_type": "code",
   "execution_count": 1,
   "id": "813609b9",
   "metadata": {},
   "outputs": [],
   "source": [
    "import numpy as np \n",
    "import pandas as pd \n",
    "import seaborn as sns\n",
    "import matplotlib.pyplot as plt\n",
    "import nltk\n",
    "%matplotlib inline "
   ]
  },
  {
   "cell_type": "code",
   "execution_count": 2,
   "id": "34629a00",
   "metadata": {},
   "outputs": [
    {
     "name": "stderr",
     "output_type": "stream",
     "text": [
      "[nltk_data] Downloading package stopwords to C:\\Users\\DRISHTI\n",
      "[nltk_data]     DHINGRA\\AppData\\Roaming\\nltk_data...\n",
      "[nltk_data]   Package stopwords is already up-to-date!\n"
     ]
    }
   ],
   "source": [
    "from bs4 import BeautifulSoup\n",
    "import re\n",
    "from nltk.corpus import stopwords\n",
    "nltk.download('stopwords')\n",
    "from sklearn import svm\n",
    "from sklearn.model_selection import train_test_split\n",
    "from sklearn.feature_extraction.text import CountVectorizer\n",
    "from sklearn.metrics import accuracy_score, confusion_matrix, recall_score, precision_score, f1_score"
   ]
  },
  {
   "cell_type": "code",
   "execution_count": 3,
   "id": "c5bdb07e",
   "metadata": {},
   "outputs": [
    {
     "data": {
      "text/html": [
       "<div>\n",
       "<style scoped>\n",
       "    .dataframe tbody tr th:only-of-type {\n",
       "        vertical-align: middle;\n",
       "    }\n",
       "\n",
       "    .dataframe tbody tr th {\n",
       "        vertical-align: top;\n",
       "    }\n",
       "\n",
       "    .dataframe thead th {\n",
       "        text-align: right;\n",
       "    }\n",
       "</style>\n",
       "<table border=\"1\" class=\"dataframe\">\n",
       "  <thead>\n",
       "    <tr style=\"text-align: right;\">\n",
       "      <th></th>\n",
       "      <th>Release Year</th>\n",
       "      <th>Title</th>\n",
       "      <th>Origin/Ethnicity</th>\n",
       "      <th>Director</th>\n",
       "      <th>Cast</th>\n",
       "      <th>Genre</th>\n",
       "      <th>Wiki Page</th>\n",
       "      <th>Plot</th>\n",
       "    </tr>\n",
       "  </thead>\n",
       "  <tbody>\n",
       "    <tr>\n",
       "      <th>34881</th>\n",
       "      <td>2014</td>\n",
       "      <td>The Water Diviner</td>\n",
       "      <td>Turkish</td>\n",
       "      <td>Director: Russell Crowe</td>\n",
       "      <td>Director: Russell Crowe\\nCast: Russell Crowe, ...</td>\n",
       "      <td>unknown</td>\n",
       "      <td>https://en.wikipedia.org/wiki/The_Water_Diviner</td>\n",
       "      <td>The film begins in 1919, just after World War ...</td>\n",
       "    </tr>\n",
       "    <tr>\n",
       "      <th>34882</th>\n",
       "      <td>2017</td>\n",
       "      <td>Çalgı Çengi İkimiz</td>\n",
       "      <td>Turkish</td>\n",
       "      <td>Selçuk Aydemir</td>\n",
       "      <td>Ahmet Kural, Murat Cemcir</td>\n",
       "      <td>comedy</td>\n",
       "      <td>https://en.wikipedia.org/wiki/%C3%87alg%C4%B1_...</td>\n",
       "      <td>Two musicians, Salih and Gürkan, described the...</td>\n",
       "    </tr>\n",
       "    <tr>\n",
       "      <th>34883</th>\n",
       "      <td>2017</td>\n",
       "      <td>Olanlar Oldu</td>\n",
       "      <td>Turkish</td>\n",
       "      <td>Hakan Algül</td>\n",
       "      <td>Ata Demirer, Tuvana Türkay, Ülkü Duru</td>\n",
       "      <td>comedy</td>\n",
       "      <td>https://en.wikipedia.org/wiki/Olanlar_Oldu</td>\n",
       "      <td>Zafer, a sailor living with his mother Döndü i...</td>\n",
       "    </tr>\n",
       "    <tr>\n",
       "      <th>34884</th>\n",
       "      <td>2017</td>\n",
       "      <td>Non-Transferable</td>\n",
       "      <td>Turkish</td>\n",
       "      <td>Brendan Bradley</td>\n",
       "      <td>YouTubers Shanna Malcolm, Shira Lazar, Sara Fl...</td>\n",
       "      <td>romantic comedy</td>\n",
       "      <td>https://en.wikipedia.org/wiki/Non-Transferable...</td>\n",
       "      <td>The film centres around a young woman named Am...</td>\n",
       "    </tr>\n",
       "    <tr>\n",
       "      <th>34885</th>\n",
       "      <td>2017</td>\n",
       "      <td>İstanbul Kırmızısı</td>\n",
       "      <td>Turkish</td>\n",
       "      <td>Ferzan Özpetek</td>\n",
       "      <td>Halit Ergenç, Tuba Büyüküstün, Mehmet Günsür, ...</td>\n",
       "      <td>romantic</td>\n",
       "      <td>https://en.wikipedia.org/wiki/%C4%B0stanbul_K%...</td>\n",
       "      <td>The writer Orhan Şahin returns to İstanbul aft...</td>\n",
       "    </tr>\n",
       "  </tbody>\n",
       "</table>\n",
       "</div>"
      ],
      "text/plain": [
       "       Release Year               Title Origin/Ethnicity  \\\n",
       "34881          2014   The Water Diviner          Turkish   \n",
       "34882          2017  Çalgı Çengi İkimiz          Turkish   \n",
       "34883          2017        Olanlar Oldu          Turkish   \n",
       "34884          2017    Non-Transferable          Turkish   \n",
       "34885          2017  İstanbul Kırmızısı          Turkish   \n",
       "\n",
       "                      Director  \\\n",
       "34881  Director: Russell Crowe   \n",
       "34882           Selçuk Aydemir   \n",
       "34883              Hakan Algül   \n",
       "34884          Brendan Bradley   \n",
       "34885           Ferzan Özpetek   \n",
       "\n",
       "                                                    Cast            Genre  \\\n",
       "34881  Director: Russell Crowe\\nCast: Russell Crowe, ...          unknown   \n",
       "34882                          Ahmet Kural, Murat Cemcir           comedy   \n",
       "34883              Ata Demirer, Tuvana Türkay, Ülkü Duru           comedy   \n",
       "34884  YouTubers Shanna Malcolm, Shira Lazar, Sara Fl...  romantic comedy   \n",
       "34885  Halit Ergenç, Tuba Büyüküstün, Mehmet Günsür, ...         romantic   \n",
       "\n",
       "                                               Wiki Page  \\\n",
       "34881    https://en.wikipedia.org/wiki/The_Water_Diviner   \n",
       "34882  https://en.wikipedia.org/wiki/%C3%87alg%C4%B1_...   \n",
       "34883         https://en.wikipedia.org/wiki/Olanlar_Oldu   \n",
       "34884  https://en.wikipedia.org/wiki/Non-Transferable...   \n",
       "34885  https://en.wikipedia.org/wiki/%C4%B0stanbul_K%...   \n",
       "\n",
       "                                                    Plot  \n",
       "34881  The film begins in 1919, just after World War ...  \n",
       "34882  Two musicians, Salih and Gürkan, described the...  \n",
       "34883  Zafer, a sailor living with his mother Döndü i...  \n",
       "34884  The film centres around a young woman named Am...  \n",
       "34885  The writer Orhan Şahin returns to İstanbul aft...  "
      ]
     },
     "execution_count": 3,
     "metadata": {},
     "output_type": "execute_result"
    }
   ],
   "source": [
    "#Importing the dataset\n",
    "df = pd.read_csv(\"wiki_movie_plots_deduped.csv\")\n",
    "df.tail()"
   ]
  },
  {
   "cell_type": "code",
   "execution_count": 4,
   "id": "a340661a",
   "metadata": {},
   "outputs": [
    {
     "name": "stdout",
     "output_type": "stream",
     "text": [
      "<class 'pandas.core.frame.DataFrame'>\n",
      "RangeIndex: 34886 entries, 0 to 34885\n",
      "Data columns (total 8 columns):\n",
      " #   Column            Non-Null Count  Dtype \n",
      "---  ------            --------------  ----- \n",
      " 0   Release Year      34886 non-null  int64 \n",
      " 1   Title             34886 non-null  object\n",
      " 2   Origin/Ethnicity  34886 non-null  object\n",
      " 3   Director          34886 non-null  object\n",
      " 4   Cast              33464 non-null  object\n",
      " 5   Genre             34886 non-null  object\n",
      " 6   Wiki Page         34886 non-null  object\n",
      " 7   Plot              34886 non-null  object\n",
      "dtypes: int64(1), object(7)\n",
      "memory usage: 2.1+ MB\n"
     ]
    }
   ],
   "source": [
    "df.info()"
   ]
  },
  {
   "cell_type": "markdown",
   "id": "217f5bdd",
   "metadata": {},
   "source": [
    "Cleaning the Data"
   ]
  },
  {
   "cell_type": "code",
   "execution_count": 5,
   "id": "d9eb8b39",
   "metadata": {},
   "outputs": [
    {
     "name": "stdout",
     "output_type": "stream",
     "text": [
      "       Release Year               Title Origin/Ethnicity         Director  \\\n",
      "34877          2013     Particle (film)          Turkish    Erdem Tepegöz   \n",
      "34882          2017  Çalgı Çengi İkimiz          Turkish   Selçuk Aydemir   \n",
      "34883          2017        Olanlar Oldu          Turkish      Hakan Algül   \n",
      "34884          2017    Non-Transferable          Turkish  Brendan Bradley   \n",
      "34885          2017  İstanbul Kırmızısı          Turkish   Ferzan Özpetek   \n",
      "\n",
      "                                                    Cast            Genre  \\\n",
      "34877  Jale Arıkan, Rüçhan Caliskur, Özay Fecht, Remz...       drama film   \n",
      "34882                          Ahmet Kural, Murat Cemcir           comedy   \n",
      "34883              Ata Demirer, Tuvana Türkay, Ülkü Duru           comedy   \n",
      "34884  YouTubers Shanna Malcolm, Shira Lazar, Sara Fl...  romantic comedy   \n",
      "34885  Halit Ergenç, Tuba Büyüküstün, Mehmet Günsür, ...         romantic   \n",
      "\n",
      "                                               Wiki Page  \\\n",
      "34877      https://en.wikipedia.org/wiki/Particle_(film)   \n",
      "34882  https://en.wikipedia.org/wiki/%C3%87alg%C4%B1_...   \n",
      "34883         https://en.wikipedia.org/wiki/Olanlar_Oldu   \n",
      "34884  https://en.wikipedia.org/wiki/Non-Transferable...   \n",
      "34885  https://en.wikipedia.org/wiki/%C4%B0stanbul_K%...   \n",
      "\n",
      "                                                    Plot  \n",
      "34877  Zeynep lost her job at weaving factory, and he...  \n",
      "34882  Two musicians, Salih and Gürkan, described the...  \n",
      "34883  Zafer, a sailor living with his mother Döndü i...  \n",
      "34884  The film centres around a young woman named Am...  \n",
      "34885  The writer Orhan Şahin returns to İstanbul aft...  \n"
     ]
    }
   ],
   "source": [
    "df['Genre']=df['Genre'].replace('unknown',np.nan)\n",
    "df=df.dropna(axis=0, subset=['Genre'])\n",
    "print(df.tail())"
   ]
  },
  {
   "cell_type": "code",
   "execution_count": 6,
   "id": "2df58c7d",
   "metadata": {},
   "outputs": [
    {
     "name": "stdout",
     "output_type": "stream",
     "text": [
      "(28803, 8)\n",
      "28803\n",
      "['drama', 'comedy', 'horror', 'action', 'thriller', 'romance', 'western', 'crime', 'adventure', 'musical', 'crime drama', 'romantic comedy', 'science fiction', 'film noir', 'mystery', 'war', 'animation', 'comedy, drama', 'sci-fi', 'family']\n"
     ]
    }
   ],
   "source": [
    "print(df.shape)\n",
    "print(len(df))\n",
    "a=df['Genre'].value_counts()[:20]\n",
    "b=a.keys().tolist()\n",
    "print(b)\n",
    "df=df[df.Genre.isin(b)]\n",
    "df=df.reset_index(drop=True)"
   ]
  },
  {
   "cell_type": "code",
   "execution_count": 7,
   "id": "9033343f",
   "metadata": {},
   "outputs": [
    {
     "data": {
      "text/plain": [
       "<AxesSubplot:xlabel='Count', ylabel='Genre'>"
      ]
     },
     "execution_count": 7,
     "metadata": {},
     "output_type": "execute_result"
    },
    {
     "data": {
      "image/png": "[encoded data removed]",
      "text/plain": [
       "<Figure size 1080x720 with 1 Axes>"
      ]
     },
     "metadata": {},
     "output_type": "display_data"
    }
   ],
   "source": [
    "sns.set(style=\"white\")\n",
    "genre_to_count=pd.DataFrame({'Genre':a.index, 'Count':a.values})\n",
    "plt.figure(figsize=(15,10))\n",
    "sns.barplot(y=\"Genre\", x=\"Count\", data=genre_to_count,palette=\"Blues_d\")"
   ]
  },
  {
   "cell_type": "code",
   "execution_count": 13,
   "id": "866ff6d2",
   "metadata": {},
   "outputs": [
    {
     "name": "stdout",
     "output_type": "stream",
     "text": [
      "0    film opens two bandits breaking railroad teleg...\n",
      "1    film family move suburbs hoping quiet life thi...\n",
      "2    heading baseball game nearby ballpark sports f...\n",
      "3    plot black woman going dentist toothache given...\n",
      "4    beautiful summer day father mother take daught...\n",
      "5    thug accosts girl leaves workplace man rescues...\n",
      "6    young couple decides elope caught midst romant...\n",
      "7    white girl florence lawrence rejects proposal ...\n",
      "8    prints first american film adaptation christma...\n",
      "9    film opens town mexican border poker game goin...\n",
      "Name: Plot, dtype: object\n"
     ]
    }
   ],
   "source": [
    "def plotToWords(raw_plot):\n",
    "    letters_only = re.sub(\"[^a-zA-Z]\", \" \", raw_plot)\n",
    "    lower_case = letters_only.lower()\n",
    "    words = lower_case.split()\n",
    "    stops = set(stopwords.words(\"english\"))\n",
    "    meaningful_words = [w for w in words if not w in stops]\n",
    "    return (\" \".join(meaningful_words))\n",
    "\n",
    "def preprocess(dataframe):\n",
    "    clean_train_reviews = []\n",
    "    for i in range(0,len(dataframe)):\n",
    "        clean_train_reviews.append(plotToWords(dataframe.iloc[i]['Plot']))\n",
    "    dataframe['Plot']=clean_train_reviews\n",
    "    return dataframe\n",
    "\n",
    "df=preprocess(df)\n",
    "print(df[\"Plot\"][:10])"
   ]
  },
  {
   "cell_type": "code",
   "execution_count": 14,
   "id": "ef727ad2",
   "metadata": {},
   "outputs": [
    {
     "data": {
      "text/plain": [
       "(20132, 4000)"
      ]
     },
     "execution_count": 14,
     "metadata": {},
     "output_type": "execute_result"
    }
   ],
   "source": [
    "from sklearn.feature_extraction.text import TfidfVectorizer\n",
    "tfidf = TfidfVectorizer(sublinear_tf=True, min_df=5, norm='l2', encoding='latin-1', ngram_range=(1, 2), max_features=4000)\n",
    "features = tfidf.fit_transform(df.Plot).toarray()\n",
    "labels = df.Genre\n",
    "features.shape"
   ]
  },
  {
   "cell_type": "code",
   "execution_count": 18,
   "id": "0be37059",
   "metadata": {},
   "outputs": [],
   "source": [
    "from sklearn.model_selection import train_test_split\n",
    "from sklearn.feature_extraction.text import CountVectorizer\n",
    "from sklearn.feature_extraction.text import TfidfTransformer\n",
    "from sklearn.naive_bayes import MultinomialNB\n",
    "X_train, X_test, y_train, y_test = train_test_split(df['Plot'], df['Genre'], random_state = 0)\n",
    "count_vect = CountVectorizer()\n",
    "X_train_counts = count_vect.fit_transform(X_train)\n",
    "tfidf_transformer = TfidfTransformer()\n",
    "X_train_tfidf = tfidf_transformer.fit_transform(X_train_counts)\n",
    "clf = MultinomialNB().fit(X_train_tfidf, y_train)\n"
   ]
  },
  {
   "cell_type": "code",
   "execution_count": 19,
   "id": "fd361fe0",
   "metadata": {},
   "outputs": [
    {
     "name": "stdout",
     "output_type": "stream",
     "text": [
      "['drama']\n"
     ]
    }
   ],
   "source": [
    "print(clf.predict(count_vect.transform([\"In an interview with CBC Radio, UniversitÃ© de MontrÃ©al History Professor Dominique St. Arnaud tells Diane about her new book, Variations on the Idea of Happiness, which discusses her thesis that modern society's fixation on self-indulgence is indicative of its decline, predicting a collapse in the \"\"American Empire,\"\" of which Quebec is on the periphery. Several of Dominique and Diane's friends, mostly intellectual history professors at the university, prepare for a dinner later in the day, with the men at work in the kitchen while the women work out at the gym. As the dinner draws nearer, the men and women mainly talk about their sex lives, with the men being open about their adulteries, including RÃ©my, who is married to Louise. Most of the women in the circle of friends have had sex with RÃ©my, though he is not attractive, but they conceal this from Louise to spare her feelings. Louise has been to an orgy with RÃ©my, but believes he is generally faithful to her in Montreal. The friends are also accepting of their homosexual friend Claude, who speaks about pursuing men reckless of fear of STDs, while secretly being fearful of having one. During the dinner party, the friends listen to Dominique's theories about the decline of society, with Louise expressing skepticism. To retaliate against Louise, Dominique reveals she has had sex with RÃ©my and their friend Pierre, causing her to have an emotional meltdown. By morning, relationships have gone back to normal.\"])))"
   ]
  },
  {
   "cell_type": "code",
   "execution_count": 25,
   "id": "2113b9e9",
   "metadata": {},
   "outputs": [
    {
     "name": "stderr",
     "output_type": "stream",
     "text": [
      "C:\\Users\\DRISHTI DHINGRA\\anaconda3\\lib\\site-packages\\sklearn\\linear_model\\_logistic.py:763: ConvergenceWarning: lbfgs failed to converge (status=1):\n",
      "STOP: TOTAL NO. of ITERATIONS REACHED LIMIT.\n",
      "\n",
      "Increase the number of iterations (max_iter) or scale the data as shown in:\n",
      "    https://scikit-learn.org/stable/modules/preprocessing.html\n",
      "Please also refer to the documentation for alternative solver options:\n",
      "    https://scikit-learn.org/stable/modules/linear_model.html#logistic-regression\n",
      "  n_iter_i = _check_optimize_result(\n",
      "C:\\Users\\DRISHTI DHINGRA\\anaconda3\\lib\\site-packages\\sklearn\\linear_model\\_logistic.py:763: ConvergenceWarning: lbfgs failed to converge (status=1):\n",
      "STOP: TOTAL NO. of ITERATIONS REACHED LIMIT.\n",
      "\n",
      "Increase the number of iterations (max_iter) or scale the data as shown in:\n",
      "    https://scikit-learn.org/stable/modules/preprocessing.html\n",
      "Please also refer to the documentation for alternative solver options:\n",
      "    https://scikit-learn.org/stable/modules/linear_model.html#logistic-regression\n",
      "  n_iter_i = _check_optimize_result(\n",
      "C:\\Users\\DRISHTI DHINGRA\\anaconda3\\lib\\site-packages\\sklearn\\linear_model\\_logistic.py:763: ConvergenceWarning: lbfgs failed to converge (status=1):\n",
      "STOP: TOTAL NO. of ITERATIONS REACHED LIMIT.\n",
      "\n",
      "Increase the number of iterations (max_iter) or scale the data as shown in:\n",
      "    https://scikit-learn.org/stable/modules/preprocessing.html\n",
      "Please also refer to the documentation for alternative solver options:\n",
      "    https://scikit-learn.org/stable/modules/linear_model.html#logistic-regression\n",
      "  n_iter_i = _check_optimize_result(\n",
      "C:\\Users\\DRISHTI DHINGRA\\anaconda3\\lib\\site-packages\\sklearn\\linear_model\\_logistic.py:763: ConvergenceWarning: lbfgs failed to converge (status=1):\n",
      "STOP: TOTAL NO. of ITERATIONS REACHED LIMIT.\n",
      "\n",
      "Increase the number of iterations (max_iter) or scale the data as shown in:\n",
      "    https://scikit-learn.org/stable/modules/preprocessing.html\n",
      "Please also refer to the documentation for alternative solver options:\n",
      "    https://scikit-learn.org/stable/modules/linear_model.html#logistic-regression\n",
      "  n_iter_i = _check_optimize_result(\n",
      "C:\\Users\\DRISHTI DHINGRA\\anaconda3\\lib\\site-packages\\sklearn\\linear_model\\_logistic.py:763: ConvergenceWarning: lbfgs failed to converge (status=1):\n",
      "STOP: TOTAL NO. of ITERATIONS REACHED LIMIT.\n",
      "\n",
      "Increase the number of iterations (max_iter) or scale the data as shown in:\n",
      "    https://scikit-learn.org/stable/modules/preprocessing.html\n",
      "Please also refer to the documentation for alternative solver options:\n",
      "    https://scikit-learn.org/stable/modules/linear_model.html#logistic-regression\n",
      "  n_iter_i = _check_optimize_result(\n"
     ]
    },
    {
     "data": {
      "image/png": "[encoded data removed]",
      "text/plain": [
       "<Figure size 432x288 with 1 Axes>"
      ]
     },
     "metadata": {},
     "output_type": "display_data"
    }
   ],
   "source": [
    "from sklearn.linear_model import LogisticRegression\n",
    "from sklearn.ensemble import RandomForestClassifier\n",
    "from sklearn.svm import LinearSVC\n",
    "from sklearn.model_selection import cross_val_score\n",
    "models = [\n",
    "    LinearSVC(),\n",
    "    MultinomialNB(),\n",
    "    LogisticRegression(random_state=0),\n",
    "]\n",
    "CV = 5\n",
    "cv_df = pd.DataFrame(index=range(CV * len(models)))\n",
    "entries = []\n",
    "for model in models:\n",
    "    model_name = model.__class__.__name__\n",
    "    accuracies = cross_val_score(model, features, labels, scoring='accuracy', cv=CV)\n",
    "    for fold_idx, accuracy in enumerate(accuracies):\n",
    "        entries.append((model_name, fold_idx, accuracy))\n",
    "cv_df = pd.DataFrame(entries, columns=['model_name', 'fold_idx', 'accuracy'])\n",
    "import seaborn as sns\n",
    "sns.boxplot(x='model_name', y='accuracy', data=cv_df)\n",
    "sns.stripplot(x='model_name', y='accuracy', data=cv_df, \n",
    "              size=8, jitter=True, edgecolor=\"gray\", linewidth=2)\n",
    "plt.show()"
   ]
  },
  {
   "cell_type": "code",
   "execution_count": 26,
   "id": "4b169029",
   "metadata": {},
   "outputs": [
    {
     "data": {
      "text/plain": [
       "model_name\n",
       "LinearSVC             0.459963\n",
       "LogisticRegression    0.495677\n",
       "MultinomialNB         0.456386\n",
       "Name: accuracy, dtype: float64"
      ]
     },
     "execution_count": 26,
     "metadata": {},
     "output_type": "execute_result"
    }
   ],
   "source": [
    "cv_df.groupby('model_name').accuracy.mean()"
   ]
  },
  {
   "cell_type": "code",
   "execution_count": null,
   "id": "174c61b1",
   "metadata": {},
   "outputs": [],
   "source": []
  }
 ],
 "metadata": {
  "kernelspec": {
   "display_name": "Python 3 (ipykernel)",
   "language": "python",
   "name": "python3"
  },
  "language_info": {
   "codemirror_mode": {
    "name": "ipython",
    "version": 3
   },
   "file_extension": ".py",
   "mimetype": "text/x-python",
   "name": "python",
   "nbconvert_exporter": "python",
   "pygments_lexer": "ipython3",
   "version": "3.9.7"
  }
 },
 "nbformat": 4,
 "nbformat_minor": 5
}
